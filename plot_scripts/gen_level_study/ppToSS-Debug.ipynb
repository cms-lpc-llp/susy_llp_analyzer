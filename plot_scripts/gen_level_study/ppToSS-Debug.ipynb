{
 "cells": [
  {
   "cell_type": "code",
   "execution_count": 11,
   "metadata": {},
   "outputs": [
    {
     "name": "stdout",
     "output_type": "stream",
     "text": [
      "3.6.8 (default, Apr 25 2019, 21:02:35) \n",
      "[GCC 4.8.5 20150623 (Red Hat 4.8.5-36)]\n"
     ]
    }
   ],
   "source": [
    "import ROOT as rt\n",
    "import csv\n",
    "import re\n",
    "import sys\n",
    "import collections\n",
    "from collections import OrderedDict\n",
    "import uproot\n",
    "import numpy as np\n",
    "import time\n",
    "import numba\n",
    "from numba import jit\n",
    "from matplotlib import pyplot as plt\n",
    "from numpy import linalg as LA\n",
    "from ROOT import TLorentzVector\n",
    "from array import array\n",
    "# import PyTEX\n",
    "\n",
    "import math\n",
    "\n",
    "# sys.path.append('/nfshome/christiw/llp/delayed_jet_analyzer/lib/')\n",
    "sys.path.append('/nfshome/jmao/cms-llp/delayed_jet_analyzer/lib/')\n",
    "\n",
    "from histo_utilities import create_TH1D, create_TH2D, create_TGraph,std_color_list\n",
    "     \n",
    "import CMS_lumi, tdrstyle \n",
    "tdrstyle.setTDRStyle()\n",
    "CMS_lumi.writeExtraText = 1\n",
    "CMS_lumi.extraText = \"     Simulation Preliminary\"\n",
    "\n",
    "# donotdelete = []\n",
    "print(sys.version)"
   ]
  },
  {
   "cell_type": "code",
   "execution_count": 17,
   "metadata": {
    "scrolled": false
   },
   "outputs": [
    {
     "name": "stdout",
     "output_type": "stream",
     "text": [
      "/mnt/hadoop/store/group/phys_exotica/delayedjets/displacedJetMuonNtuple/V1p7/MC_Summer16/v10/sixie/WplusH_HToSSTobbbb_WToLNu_MH-125_MS-40_ctauS-10000_TuneCUETP8M1_13TeV-powheg-pythia8/Run2_displacedJetMuonNtupler_V1p7_MC_Summer16_RunIISummer16DR80Premix-PUMoriond17_80X_mcRun2_asymptotic_2016_TrancheIV_v6-v1_v10_v1/190911_021520/0000/displacedJetMuon_ntupler_1.root\n",
      "Open ready\n",
      "WPlusH, MH = 125 GeV, MS = 45 GeV, ctau = 10 m\n",
      "Tree ready\n",
      "<TTree b'llp' at 0x7f5e9e20edd8> OrderedDict([('displacedJetMuon_ntupler_1.root', <TTree b'llp' at 0x7f5e9e20edd8>)])\n"
     ]
    }
   ],
   "source": [
    "dirs = {}\n",
    "\n",
    " \n",
    "dirs['displacedJetMuon_ntupler_1.root'] = '/mnt/hadoop/store/group/phys_exotica/delayedjets/displacedJetMuonNtuple/V1p7/MC_Summer16/v10/sixie/WplusH_HToSSTobbbb_WToLNu_MH-125_MS-40_ctauS-10000_TuneCUETP8M1_13TeV-powheg-pythia8/Run2_displacedJetMuonNtupler_V1p7_MC_Summer16_RunIISummer16DR80Premix-PUMoriond17_80X_mcRun2_asymptotic_2016_TrancheIV_v6-v1_v10_v1/190911_021520/0000/'\n",
    "# displacedJetMuon_ntupler_1.root'\n",
    " \n",
    "out_dir = '/nfshome/jmao/cms-llp/plots/20190920/'\n",
    "\n",
    "fname = {\n",
    "    'displacedJetMuon_ntupler_1.root',\n",
    "        }\n",
    "\n",
    "texs = {}\n",
    "\n",
    "texs['displacedJetMuon_ntupler_1.root'] = 'WPlusH, MH = 125 GeV, MS = 45 GeV, ctau = 10 m'\n",
    "\n",
    "cols = {}\n",
    "\n",
    "cols['ndisplacedJetMuon_ntupler_1.root'] = 215\n",
    "\n",
    "\n",
    "tree = OrderedDict()\n",
    "\n",
    "f_dir = ''\n",
    "for file in fname:\n",
    "    print(dirs[file]+file)\n",
    " \n",
    "    root_dir = uproot.open(dirs[file]+file) \n",
    "    if 'ntupler' in file:\n",
    "        tree[file] = root_dir['ntuples/llp']\n",
    "    else:\n",
    "        tree[file] = root_dir['HggRazorLeptons']\n",
    " \n",
    "    print ('Open ready')\n",
    "    print(texs[file])\n",
    "    print ('Tree ready') \n",
    "    print(tree[file], tree)"
   ]
  },
  {
   "cell_type": "markdown",
   "metadata": {},
   "source": [
    "# Debug"
   ]
  },
  {
   "cell_type": "code",
   "execution_count": 21,
   "metadata": {},
   "outputs": [
    {
     "name": "stdout",
     "output_type": "stream",
     "text": [
      "displacedJetMuon_ntupler_1.root <TTree b'llp' at 0x7f5e9e20edd8>\n",
      " FCN=64.2839 FROM MIGRAD    STATUS=CONVERGED      57 CALLS          58 TOTAL\n",
      "                     EDM=9.53444e-11    STRATEGY= 1      ERROR MATRIX ACCURATE \n",
      "  EXT PARAMETER                                   STEP         FIRST   \n",
      "  NO.   NAME      VALUE            ERROR          SIZE      DERIVATIVE \n",
      "   1  Constant     7.81699e+00   9.02022e-03   2.49861e-05  -8.66937e-04\n",
      "   2  Slope       -9.94984e-04   6.39937e-06   1.77261e-08   1.10983e+00\n"
     ]
    },
    {
     "name": "stderr",
     "output_type": "stream",
     "text": [
      "Warning in <TCanvas::Constructor>: Deleting canvas with same name: c\n",
      "Info in <TCanvas::Print>: png file /nfshome/jmao/cms-llp/plots/20190920/decay_ctau.png has been created\n"
     ]
    },
    {
     "data": {
      "image/png": "[encoded data removed]",
      "text/plain": [
       "<IPython.core.display.Image object>"
      ]
     },
     "metadata": {},
     "output_type": "display_data"
    }
   ],
   "source": [
    "c = rt.TCanvas('c','c', 800, 800)\n",
    "leg = rt.TLegend(0.23,0.76,0.78,0.94)\n",
    "leg.SetTextSize(0.022)\n",
    "leg.SetBorderSize(0)\n",
    "leg.SetFillStyle(0)\n",
    "leg.SetEntrySeparation(0.01)\n",
    "gr_1j = {}\n",
    "gr_2j = {}\n",
    "\n",
    "i = 0\n",
    "ht = {}\n",
    "hy = {}\n",
    "hz = {}\n",
    "hct = {}\n",
    "\n",
    " \n",
    "\n",
    "for k,v in tree.items(): \n",
    "    print(k,v)\n",
    "    \n",
    " \n",
    " \n",
    "    if 'ntupler' in k:\n",
    "    \n",
    " \n",
    "        \n",
    "        beta = v['gLLP_beta'].array()\n",
    " \n",
    "        decay_x = v['gLLP_decay_vertex_x'].array()\n",
    "        decay_y = v['gLLP_decay_vertex_y'].array()\n",
    "        decay_z = v['gLLP_decay_vertex_z'].array()\n",
    "\n",
    "#         h_x_all = decay_x.flatten()\n",
    "#         h_y_all = decay_y.flatten()\n",
    "#         h_z_all = decay_z.flatten()\n",
    "        \n",
    "#         h_beta_all = beta.flatten()\n",
    "        h_x_all = decay_x[:,0]\n",
    "        h_y_all = decay_y[:,0]\n",
    "        h_z_all = decay_z[:,0]\n",
    "        \n",
    "        h_beta_all = beta[:,0]\n",
    "\n",
    "        h_r_all = [rt.TMath.Sqrt(pow(x,2)+pow(y,2)) for x,y in zip(h_x_all, h_y_all)]\n",
    "        h_d_all = [rt.TMath.Sqrt(pow(x,2)+pow(y,2)) for x,y in zip(h_r_all, h_z_all)]\n",
    "        \n",
    "        out_h_ct_flat = [x/y*(rt.TMath.Sqrt(1-pow(y ,2))) for x,y in zip(h_d_all, h_beta_all)]\n",
    "        \n",
    "    \n",
    "\n",
    "        hct[k] = create_TH1D( out_h_ct_flat, axis_title=['ctau [cm]', 'fraction of events'], name=\"\", binning=[100,-0,10000])\n",
    "        hct[k].SetLineStyle(i+2)\n",
    "        hct[k].SetLineColor(i+2)\n",
    "#         hct[k].SetMarkerColor(cols[k])\n",
    "        hct[k].GetXaxis().SetLabelSize(0.02)\n",
    "\n",
    "        hct[k].Draw('same')\n",
    "#         hct[k].DrawNormalized('same')\n",
    "        hct[k].Fit('expo')\n",
    "#         hct[k].Fit('expo','','',10,20000)\n",
    " \n",
    "\n",
    "      \n",
    "\n",
    "        leg.AddEntry(hct[k], texs[k])\n",
    "        \n",
    " \n",
    " \n",
    "        i += 1\n",
    "    \n",
    "\n",
    "# leg.SetHeader('m_{chargino} = m_{neutralino} = 127 GeV, m_{LSP} = 1 GeV')\n",
    "leg.Draw()\n",
    "\n",
    "c.SetLogy()\n",
    "# c.SetLogx()\n",
    "c.SetRightMargin(0.1)\n",
    "c.Update()\n",
    "c.Draw()\n",
    "c.SaveAs(out_dir+'decay_ctau.png')"
   ]
  },
  {
   "cell_type": "code",
   "execution_count": null,
   "metadata": {},
   "outputs": [],
   "source": []
  }
 ],
 "metadata": {
  "kernelspec": {
   "display_name": "Python 3",
   "language": "python",
   "name": "python3"
  },
  "language_info": {
   "codemirror_mode": {
    "name": "ipython",
    "version": 3
   },
   "file_extension": ".py",
   "mimetype": "text/x-python",
   "name": "python",
   "nbconvert_exporter": "python",
   "pygments_lexer": "ipython3",
   "version": "3.6.8"
  }
 },
 "nbformat": 4,
 "nbformat_minor": 2
}
