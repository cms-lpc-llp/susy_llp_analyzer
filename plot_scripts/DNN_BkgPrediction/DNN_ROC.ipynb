{
 "cells": [
  {
   "cell_type": "code",
   "execution_count": 10,
   "metadata": {},
   "outputs": [
    {
     "name": "stdout",
     "output_type": "stream",
     "text": [
      "3.6.8 (default, Apr  2 2020, 13:34:55) \n",
      "[GCC 4.8.5 20150623 (Red Hat 4.8.5-39)]\n"
     ]
    }
   ],
   "source": [
    "import ROOT as rt\n",
    "import csv\n",
    "import re\n",
    "import sys\n",
    "import collections\n",
    "from collections import OrderedDict\n",
    "import uproot\n",
    "import numpy as np\n",
    "import time\n",
    "import numba\n",
    "from numba import jit\n",
    "from matplotlib import pyplot as plt\n",
    "from numpy import linalg as LA\n",
    "from ROOT import TLorentzVector\n",
    "from array import array\n",
    "# import PyTEX\n",
    "import os\n",
    "\n",
    "import math\n",
    "import random\n",
    "from optparse import OptionParser\n",
    "\n",
    "sys.path.append('/storage/user/jmao/gpu/jmao/cms-llp/delayed_jet_analyzer/lib/')\n",
    "\n",
    "from histo_utilities import create_TH1D, create_TH2D, create_TGraph,std_color_list, make_ratio_plot\n",
    "\n",
    "import CMS_lumi, tdrstyle \n",
    "tdrstyle.setTDRStyle()\n",
    "CMS_lumi.writeExtraText = 1\n",
    "CMS_lumi.extraText = \"     Simulation Preliminary\"\n",
    "\n",
    "     \n",
    "print(sys.version)\n",
    "\n",
    "from sklearn.model_selection import train_test_split\n",
    "from sklearn.metrics import accuracy_score, roc_curve, roc_auc_score\n",
    "import pandas as pd\n",
    "import pickle as pickle\n",
    "import shlex\n",
    "import uproot\n",
    "import seaborn as sns\n",
    "\n",
    "from scipy.spatial.distance import cdist\n",
    "from collections import Counter \n",
    "import datetime\n",
    "import pytz\n",
    "\n",
    "from prettytable import PrettyTable\n",
    "from pyjet import cluster\n",
    "\n",
    "import xgboost as xgb\n",
    "os.environ['KMP_DUPLICATE_LIB_OK']='True'\n",
    "from xgboost import XGBClassifier\n"
   ]
  },
  {
   "cell_type": "code",
   "execution_count": 11,
   "metadata": {},
   "outputs": [
    {
     "data": {
      "text/plain": [
       "0"
      ]
     },
     "execution_count": 11,
     "metadata": {},
     "output_type": "execute_result"
    }
   ],
   "source": [
    "# root settings\n",
    "rt.gROOT.SetBatch(True)\n",
    "rt.gStyle.SetOptStat(0)\n",
    "rt.gStyle.SetOptFit(111)\n",
    "rt.gStyle.SetPaintTextFormat(\"2.1f\")\n",
    "\n",
    "# plt.rcParams[\"font.family\"] = \"Arial\"\n",
    "plt.rcParams[\"axes.unicode_minus\"] = False\n",
    "plt.rcParams[\"text.usetex\"] = False\n",
    "plt.rcParams[\"mathtext.fontset\"] = \"cm\"\n",
    "\n",
    "# test_name = 'xgb_HH_vs_QCD_ebBDT'\n",
    "\n",
    "lumi_sf_sig = 137.0 # scale lumi from sample to full run2\n",
    "lumi_sf_bkg = 137.0\n",
    "\n",
    "#output dir\n",
    " \n",
    " \n",
    "plotDir = '/storage/user/jmao/gpu/jmao/cms-llp/plots/20201105/2018/MC/'\n",
    "\n",
    "os.system(\"mkdir -p \"+ plotDir)"
   ]
  },
  {
   "cell_type": "code",
   "execution_count": 3,
   "metadata": {},
   "outputs": [],
   "source": [
    "tags = []\n",
    "tags = [\n",
    "    \n",
    "#         'QCD_HT_all, background',\n",
    "#         'WLNu_HT_all, background',\n",
    "#         'ZNunu_HT_all, background',\n",
    "#         'TT_Lep, background',\n",
    "\n",
    "        ]\n",
    "\n",
    "\n",
    "# directory\n",
    "home_dir = '/mnt/hadoop/store/group/phys_exotica/delayedjets/displacedJetTimingAnalyzer/'\n",
    "# file names\n",
    "\n",
    "fnames = {}\n",
    "\n",
    " \n",
    "fnames['QCD_HT_all, background'] = 'V1p17/v21/MC_Fall18/normalized/QCD_HT50toInf_TuneCP5_13TeV-madgraphMLM-pythia8_1pb_weighted.root'\n",
    "fnames['WLNu_HT_all, background'] = 'V1p17/v21/MC_Fall18/normalized/WJetsToLNu_HT-70ToInf_TuneCP5_13TeV-madgraphMLM-pythia8_1pb_weighted.root'\n",
    "fnames['ZNunu_HT_all, background'] = 'V1p17/v21/MC_Fall18/normalized/ZJetsToNuNu_HT-100ToInf_13TeV-madgraph_1pb_weighted.root'\n",
    "fnames['TT_Lep, background'] = 'V1p17/v21/MC_Fall18/normalized/TTJets_TuneCP5_13TeV-madgraphMLM-pythia8_1pb_weighted.root'\n",
    "\n",
    "\n",
    "# get all the trees\n",
    "tree = OrderedDict()\n",
    "\n",
    "for tag in tags:\n",
    "    print(home_dir+fnames[tag])\n",
    "\n",
    "    root_dir = uproot.open(home_dir+fnames[tag])\n",
    "    tree[tag] = root_dir['SusyLLPTree']\n",
    "\n",
    "    print ('Open ready')\n",
    "    print(tag)\n",
    "    print ('Tree ready')\n",
    "    print(tree[tag], tree)\n",
    "    v = tree[tag]\n",
    "    jet_amax = v['jetGammaMax_ET'].array()\n",
    "    print(jet_amax[:10])\n",
    "    jet_amax = v['weight'].array()\n",
    "    print(jet_amax[:10])\n",
    "    print(np.unique(jet_amax))\n",
    "     \n"
   ]
  },
  {
   "cell_type": "code",
   "execution_count": 12,
   "metadata": {},
   "outputs": [
    {
     "name": "stdout",
     "output_type": "stream",
     "text": [
      "70582674.0\n",
      "1172420244.0\n",
      "1144510056.0\n",
      "2055218241.0\n",
      "ReadStreamerInfo, class:string, illegal uid=-2\n",
      "ReadStreamerInfo, class:string, illegal uid=-2\n",
      "ReadStreamerInfo, class:string, illegal uid=-2\n",
      "ReadStreamerInfo, class:string, illegal uid=-2\n"
     ]
    }
   ],
   "source": [
    "# signal and bkg file normalized\n",
    "dataDir = '/mnt/hadoop/store/group/phys_exotica/delayedjets/displacedJetTimingAnalyzer/V1p17/v21/MC_Fall18/normalized/'\n",
    "#sig \n",
    "signalFileName = dataDir + 'n3n2-n1-hbb-hbb_mh200_pl1000_ev100000_1pb_weighted.root'\n",
    "signalFile = rt.TFile(signalFileName)\n",
    "# signalTree = signalFile.Get('BDT_Tree')\n",
    "signalTree = signalFile.Get('SusyLLPTree')\n",
    "signalEvents = lumi_sf_sig*signalTree.GetEntries()\n",
    "\n",
    "#bkg\n",
    "# bkgFileName    = dataDir + 'QCD_HT50toInf_TuneCP5_13TeV-madgraphMLM-pythia8_1pb_weighted.root'\n",
    "# bkgFile = rt.TFile(bkgFileName)\n",
    "# # bkgTree = bkgFile.Get('BDT_Tree')\n",
    "# bkgTree = bkgFile.Get('SusyLLPTree')\n",
    "# bkgEvents = lumi_sf_bkg*bkgTree.GetEntries()\n",
    "\n",
    "bkg1FileName    = dataDir + 'QCD_HT50toInf_TuneCP5_13TeV-madgraphMLM-pythia8_1pb_weighted.root'\n",
    "bkg2FileName    = dataDir + 'WJetsToLNu_HT-70ToInf_TuneCP5_13TeV-madgraphMLM-pythia8_1pb_weighted.root'\n",
    "bkg3FileName    = dataDir + 'ZJetsToNuNu_HT-100ToInf_13TeV-madgraph_1pb_weighted.root'\n",
    "bkg4FileName    = dataDir + 'TTJets_TuneCP5_13TeV-madgraphMLM-pythia8_1pb_weighted.root'\n",
    "\n",
    "bkg1File = rt.TFile(bkg1FileName)\n",
    "# bkgTree = bkgFile.Get('BDT_Tree')\n",
    "bkg1Tree = bkg1File.Get('SusyLLPTree')\n",
    "bkg1Events = lumi_sf_bkg*bkg1Tree.GetEntries()\n",
    "\n",
    "bkg2File = rt.TFile(bkg2FileName)\n",
    "bkg2Tree = bkg2File.Get('SusyLLPTree')\n",
    "bkg2Events = lumi_sf_bkg*bkg2Tree.GetEntries()\n",
    "\n",
    "bkg3File = rt.TFile(bkg3FileName)\n",
    "bkg3Tree = bkg3File.Get('SusyLLPTree')\n",
    "bkg3Events = lumi_sf_bkg*bkg3Tree.GetEntries()\n",
    "\n",
    "bkg4File = rt.TFile(bkg4FileName)\n",
    "bkg4Tree = bkg4File.Get('SusyLLPTree')\n",
    "bkg4Events = lumi_sf_bkg*bkg4Tree.GetEntries()\n",
    "\n",
    "print(bkg1Events)\n",
    "print(bkg2Events)\n",
    "print(bkg3Events)\n",
    "print(bkg4Events)\n"
   ]
  },
  {
   "cell_type": "code",
   "execution_count": 5,
   "metadata": {},
   "outputs": [],
   "source": [
    "# variables = [\n",
    " \n",
    "#         ['jetTime', 'jetTime', 'jetTime', 50, -10, 20],\n",
    "#         ['jetDNNScore', 'jetDNNScore', 'jetDNNScore', 50, 0, 1],\n",
    "        \n",
    "#             ]"
   ]
  },
  {
   "cell_type": "code",
   "execution_count": 13,
   "metadata": {},
   "outputs": [],
   "source": [
    "variablesX = [\n",
    " \n",
    "        ['jetTime', 'jetTime', 'jetTime', 50, -10, 20],\n",
    "#         ['jetDNNScore', 'jetDNNScore', 'jetDNNScore', 50, 0, 1],\n",
    "        \n",
    "            ]"
   ]
  },
  {
   "cell_type": "code",
   "execution_count": 14,
   "metadata": {},
   "outputs": [],
   "source": [
    "variablesY = [\n",
    " \n",
    "#         ['jetTime', 'jetTime', 'jetTime', 50, -10, 20],\n",
    "        ['jetDNNScore', 'jetDNNScore', 'jetDNNScore', 50, 0, 1],\n",
    "        \n",
    "            ]"
   ]
  },
  {
   "cell_type": "code",
   "execution_count": 15,
   "metadata": {},
   "outputs": [
    {
     "ename": "KeyboardInterrupt",
     "evalue": "",
     "output_type": "error",
     "traceback": [
      "\u001b[0;31m---------------------------------------------------------------------------\u001b[0m",
      "\u001b[0;31mKeyboardInterrupt\u001b[0m                         Traceback (most recent call last)",
      "\u001b[0;32m<ipython-input-15-1f3f5db25e7e>\u001b[0m in \u001b[0;36m<module>\u001b[0;34m\u001b[0m\n\u001b[1;32m      4\u001b[0m \u001b[0;34m\u001b[0m\u001b[0m\n\u001b[1;32m      5\u001b[0m \u001b[0mdf_bkg1X\u001b[0m \u001b[0;34m=\u001b[0m \u001b[0muproot\u001b[0m\u001b[0;34m.\u001b[0m\u001b[0mopen\u001b[0m\u001b[0;34m(\u001b[0m\u001b[0mbkg1FileName\u001b[0m\u001b[0;34m)\u001b[0m\u001b[0;34m[\u001b[0m\u001b[0;34m'SusyLLPTree'\u001b[0m\u001b[0;34m]\u001b[0m\u001b[0;34m.\u001b[0m\u001b[0mpandas\u001b[0m\u001b[0;34m.\u001b[0m\u001b[0mdf\u001b[0m\u001b[0;34m(\u001b[0m\u001b[0;34m[\u001b[0m\u001b[0mrow\u001b[0m\u001b[0;34m[\u001b[0m\u001b[0;36m0\u001b[0m\u001b[0;34m]\u001b[0m \u001b[0;32mfor\u001b[0m \u001b[0mrow\u001b[0m \u001b[0;32min\u001b[0m \u001b[0mvariablesX\u001b[0m\u001b[0;34m]\u001b[0m\u001b[0;34m,\u001b[0m \u001b[0mflatten\u001b[0m\u001b[0;34m=\u001b[0m\u001b[0;32mTrue\u001b[0m\u001b[0;34m)\u001b[0m\u001b[0;34m\u001b[0m\u001b[0;34m\u001b[0m\u001b[0m\n\u001b[0;32m----> 6\u001b[0;31m \u001b[0mdf_bkg2X\u001b[0m \u001b[0;34m=\u001b[0m \u001b[0muproot\u001b[0m\u001b[0;34m.\u001b[0m\u001b[0mopen\u001b[0m\u001b[0;34m(\u001b[0m\u001b[0mbkg2FileName\u001b[0m\u001b[0;34m)\u001b[0m\u001b[0;34m[\u001b[0m\u001b[0;34m'SusyLLPTree'\u001b[0m\u001b[0;34m]\u001b[0m\u001b[0;34m.\u001b[0m\u001b[0mpandas\u001b[0m\u001b[0;34m.\u001b[0m\u001b[0mdf\u001b[0m\u001b[0;34m(\u001b[0m\u001b[0;34m[\u001b[0m\u001b[0mrow\u001b[0m\u001b[0;34m[\u001b[0m\u001b[0;36m0\u001b[0m\u001b[0;34m]\u001b[0m \u001b[0;32mfor\u001b[0m \u001b[0mrow\u001b[0m \u001b[0;32min\u001b[0m \u001b[0mvariablesX\u001b[0m\u001b[0;34m]\u001b[0m\u001b[0;34m,\u001b[0m \u001b[0mflatten\u001b[0m\u001b[0;34m=\u001b[0m\u001b[0;32mTrue\u001b[0m\u001b[0;34m)\u001b[0m\u001b[0;34m\u001b[0m\u001b[0;34m\u001b[0m\u001b[0m\n\u001b[0m\u001b[1;32m      7\u001b[0m \u001b[0;31m# df_bkg3X = uproot.open(bkg3FileName)['SusyLLPTree'].pandas.df([row[0] for row in variablesX], flatten=True)\u001b[0m\u001b[0;34m\u001b[0m\u001b[0;34m\u001b[0m\u001b[0;34m\u001b[0m\u001b[0m\n\u001b[1;32m      8\u001b[0m \u001b[0;31m# df_bkg4X = uproot.open(bkg4FileName)['SusyLLPTree'].pandas.df([row[0] for row in variablesX], flatten=True)\u001b[0m\u001b[0;34m\u001b[0m\u001b[0;34m\u001b[0m\u001b[0;34m\u001b[0m\u001b[0m\n",
      "\u001b[0;32m/usr/local/lib/python3.6/site-packages/uproot/_connect/_pandas.py\u001b[0m in \u001b[0;36mdf\u001b[0;34m(self, branches, namedecode, entrystart, entrystop, flatten, flatname, awkwardlib, cache, basketcache, keycache, executor, blocking)\u001b[0m\n\u001b[1;32m     30\u001b[0m     \u001b[0;32mdef\u001b[0m \u001b[0mdf\u001b[0m\u001b[0;34m(\u001b[0m\u001b[0mself\u001b[0m\u001b[0;34m,\u001b[0m \u001b[0mbranches\u001b[0m\u001b[0;34m=\u001b[0m\u001b[0;32mNone\u001b[0m\u001b[0;34m,\u001b[0m \u001b[0mnamedecode\u001b[0m\u001b[0;34m=\u001b[0m\u001b[0;34m\"utf-8\"\u001b[0m\u001b[0;34m,\u001b[0m \u001b[0mentrystart\u001b[0m\u001b[0;34m=\u001b[0m\u001b[0;32mNone\u001b[0m\u001b[0;34m,\u001b[0m \u001b[0mentrystop\u001b[0m\u001b[0;34m=\u001b[0m\u001b[0;32mNone\u001b[0m\u001b[0;34m,\u001b[0m \u001b[0mflatten\u001b[0m\u001b[0;34m=\u001b[0m\u001b[0;32mTrue\u001b[0m\u001b[0;34m,\u001b[0m \u001b[0mflatname\u001b[0m\u001b[0;34m=\u001b[0m\u001b[0;32mNone\u001b[0m\u001b[0;34m,\u001b[0m \u001b[0mawkwardlib\u001b[0m\u001b[0;34m=\u001b[0m\u001b[0;32mNone\u001b[0m\u001b[0;34m,\u001b[0m \u001b[0mcache\u001b[0m\u001b[0;34m=\u001b[0m\u001b[0;32mNone\u001b[0m\u001b[0;34m,\u001b[0m \u001b[0mbasketcache\u001b[0m\u001b[0;34m=\u001b[0m\u001b[0;32mNone\u001b[0m\u001b[0;34m,\u001b[0m \u001b[0mkeycache\u001b[0m\u001b[0;34m=\u001b[0m\u001b[0;32mNone\u001b[0m\u001b[0;34m,\u001b[0m \u001b[0mexecutor\u001b[0m\u001b[0;34m=\u001b[0m\u001b[0;32mNone\u001b[0m\u001b[0;34m,\u001b[0m \u001b[0mblocking\u001b[0m\u001b[0;34m=\u001b[0m\u001b[0;32mTrue\u001b[0m\u001b[0;34m)\u001b[0m\u001b[0;34m:\u001b[0m\u001b[0;34m\u001b[0m\u001b[0;34m\u001b[0m\u001b[0m\n\u001b[1;32m     31\u001b[0m         \u001b[0;32mimport\u001b[0m \u001b[0mpandas\u001b[0m\u001b[0;34m\u001b[0m\u001b[0;34m\u001b[0m\u001b[0m\n\u001b[0;32m---> 32\u001b[0;31m         \u001b[0;32mreturn\u001b[0m \u001b[0mself\u001b[0m\u001b[0;34m.\u001b[0m\u001b[0m_tree\u001b[0m\u001b[0;34m.\u001b[0m\u001b[0marrays\u001b[0m\u001b[0;34m(\u001b[0m\u001b[0mbranches\u001b[0m\u001b[0;34m=\u001b[0m\u001b[0mbranches\u001b[0m\u001b[0;34m,\u001b[0m \u001b[0moutputtype\u001b[0m\u001b[0;34m=\u001b[0m\u001b[0mpandas\u001b[0m\u001b[0;34m.\u001b[0m\u001b[0mDataFrame\u001b[0m\u001b[0;34m,\u001b[0m \u001b[0mnamedecode\u001b[0m\u001b[0;34m=\u001b[0m\u001b[0mnamedecode\u001b[0m\u001b[0;34m,\u001b[0m \u001b[0mentrystart\u001b[0m\u001b[0;34m=\u001b[0m\u001b[0mentrystart\u001b[0m\u001b[0;34m,\u001b[0m \u001b[0mentrystop\u001b[0m\u001b[0;34m=\u001b[0m\u001b[0mentrystop\u001b[0m\u001b[0;34m,\u001b[0m \u001b[0mflatten\u001b[0m\u001b[0;34m=\u001b[0m\u001b[0mflatten\u001b[0m\u001b[0;34m,\u001b[0m \u001b[0mflatname\u001b[0m\u001b[0;34m=\u001b[0m\u001b[0mflatname\u001b[0m\u001b[0;34m,\u001b[0m \u001b[0mawkwardlib\u001b[0m\u001b[0;34m=\u001b[0m\u001b[0mawkwardlib\u001b[0m\u001b[0;34m,\u001b[0m \u001b[0mcache\u001b[0m\u001b[0;34m=\u001b[0m\u001b[0mcache\u001b[0m\u001b[0;34m,\u001b[0m \u001b[0mbasketcache\u001b[0m\u001b[0;34m=\u001b[0m\u001b[0mbasketcache\u001b[0m\u001b[0;34m,\u001b[0m \u001b[0mkeycache\u001b[0m\u001b[0;34m=\u001b[0m\u001b[0mkeycache\u001b[0m\u001b[0;34m,\u001b[0m \u001b[0mexecutor\u001b[0m\u001b[0;34m=\u001b[0m\u001b[0mexecutor\u001b[0m\u001b[0;34m,\u001b[0m \u001b[0mblocking\u001b[0m\u001b[0;34m=\u001b[0m\u001b[0mblocking\u001b[0m\u001b[0;34m)\u001b[0m\u001b[0;34m\u001b[0m\u001b[0;34m\u001b[0m\u001b[0m\n\u001b[0m\u001b[1;32m     33\u001b[0m \u001b[0;34m\u001b[0m\u001b[0m\n\u001b[1;32m     34\u001b[0m     \u001b[0;32mdef\u001b[0m \u001b[0miterate\u001b[0m\u001b[0;34m(\u001b[0m\u001b[0mself\u001b[0m\u001b[0;34m,\u001b[0m \u001b[0mbranches\u001b[0m\u001b[0;34m=\u001b[0m\u001b[0;32mNone\u001b[0m\u001b[0;34m,\u001b[0m \u001b[0mentrysteps\u001b[0m\u001b[0;34m=\u001b[0m\u001b[0;32mNone\u001b[0m\u001b[0;34m,\u001b[0m \u001b[0mnamedecode\u001b[0m\u001b[0;34m=\u001b[0m\u001b[0;34m\"utf-8\"\u001b[0m\u001b[0;34m,\u001b[0m \u001b[0mentrystart\u001b[0m\u001b[0;34m=\u001b[0m\u001b[0;32mNone\u001b[0m\u001b[0;34m,\u001b[0m \u001b[0mentrystop\u001b[0m\u001b[0;34m=\u001b[0m\u001b[0;32mNone\u001b[0m\u001b[0;34m,\u001b[0m \u001b[0mflatten\u001b[0m\u001b[0;34m=\u001b[0m\u001b[0;32mTrue\u001b[0m\u001b[0;34m,\u001b[0m \u001b[0mflatname\u001b[0m\u001b[0;34m=\u001b[0m\u001b[0;32mNone\u001b[0m\u001b[0;34m,\u001b[0m \u001b[0mawkwardlib\u001b[0m\u001b[0;34m=\u001b[0m\u001b[0;32mNone\u001b[0m\u001b[0;34m,\u001b[0m \u001b[0mcache\u001b[0m\u001b[0;34m=\u001b[0m\u001b[0;32mNone\u001b[0m\u001b[0;34m,\u001b[0m \u001b[0mbasketcache\u001b[0m\u001b[0;34m=\u001b[0m\u001b[0;32mNone\u001b[0m\u001b[0;34m,\u001b[0m \u001b[0mkeycache\u001b[0m\u001b[0;34m=\u001b[0m\u001b[0;32mNone\u001b[0m\u001b[0;34m,\u001b[0m \u001b[0mexecutor\u001b[0m\u001b[0;34m=\u001b[0m\u001b[0;32mNone\u001b[0m\u001b[0;34m,\u001b[0m \u001b[0mblocking\u001b[0m\u001b[0;34m=\u001b[0m\u001b[0;32mTrue\u001b[0m\u001b[0;34m)\u001b[0m\u001b[0;34m:\u001b[0m\u001b[0;34m\u001b[0m\u001b[0;34m\u001b[0m\u001b[0m\n",
      "\u001b[0;32m/usr/local/lib/python3.6/site-packages/uproot/tree.py\u001b[0m in \u001b[0;36marrays\u001b[0;34m(self, branches, outputtype, namedecode, entrystart, entrystop, flatten, flatname, awkwardlib, cache, basketcache, keycache, executor, blocking, recursive)\u001b[0m\n\u001b[1;32m    550\u001b[0m             \u001b[0mfutures\u001b[0m \u001b[0;34m=\u001b[0m \u001b[0;34m[\u001b[0m\u001b[0;34m(\u001b[0m\u001b[0mwrap_name\u001b[0m\u001b[0;34m(\u001b[0m\u001b[0mbranch\u001b[0m\u001b[0;34m,\u001b[0m \u001b[0mnamedecode\u001b[0m\u001b[0;34m)\u001b[0m\u001b[0;34m,\u001b[0m \u001b[0minterpretation\u001b[0m\u001b[0;34m,\u001b[0m \u001b[0mbranch\u001b[0m\u001b[0;34m.\u001b[0m\u001b[0marray\u001b[0m\u001b[0;34m(\u001b[0m\u001b[0minterpretation\u001b[0m\u001b[0;34m=\u001b[0m\u001b[0minterpretation\u001b[0m\u001b[0;34m,\u001b[0m \u001b[0mentrystart\u001b[0m\u001b[0;34m=\u001b[0m\u001b[0mentrystart\u001b[0m\u001b[0;34m,\u001b[0m \u001b[0mentrystop\u001b[0m\u001b[0;34m=\u001b[0m\u001b[0mentrystop\u001b[0m\u001b[0;34m,\u001b[0m \u001b[0mflatten\u001b[0m\u001b[0;34m=\u001b[0m\u001b[0;34m(\u001b[0m\u001b[0mflatten\u001b[0m \u001b[0;32mand\u001b[0m \u001b[0;32mnot\u001b[0m \u001b[0mispandas\u001b[0m\u001b[0;34m)\u001b[0m\u001b[0;34m,\u001b[0m \u001b[0mawkwardlib\u001b[0m\u001b[0;34m=\u001b[0m\u001b[0mawkward\u001b[0m\u001b[0;34m,\u001b[0m \u001b[0mcache\u001b[0m\u001b[0;34m=\u001b[0m\u001b[0mcache\u001b[0m\u001b[0;34m,\u001b[0m \u001b[0mbasketcache\u001b[0m\u001b[0;34m=\u001b[0m\u001b[0mbasketcache\u001b[0m\u001b[0;34m,\u001b[0m \u001b[0mkeycache\u001b[0m\u001b[0;34m=\u001b[0m\u001b[0mkeycache\u001b[0m\u001b[0;34m,\u001b[0m \u001b[0mexecutor\u001b[0m\u001b[0;34m=\u001b[0m\u001b[0mexecutor\u001b[0m\u001b[0;34m,\u001b[0m \u001b[0mblocking\u001b[0m\u001b[0;34m=\u001b[0m\u001b[0;32mFalse\u001b[0m\u001b[0;34m)\u001b[0m\u001b[0;34m)\u001b[0m \u001b[0;32mfor\u001b[0m \u001b[0mbranch\u001b[0m\u001b[0;34m,\u001b[0m \u001b[0minterpretation\u001b[0m \u001b[0;32min\u001b[0m \u001b[0mbranches\u001b[0m\u001b[0;34m]\u001b[0m\u001b[0;34m\u001b[0m\u001b[0;34m\u001b[0m\u001b[0m\n\u001b[1;32m    551\u001b[0m         \u001b[0;32melse\u001b[0m\u001b[0;34m:\u001b[0m\u001b[0;34m\u001b[0m\u001b[0;34m\u001b[0m\u001b[0m\n\u001b[0;32m--> 552\u001b[0;31m             \u001b[0mfutures\u001b[0m \u001b[0;34m=\u001b[0m \u001b[0;34m[\u001b[0m\u001b[0;34m(\u001b[0m\u001b[0mbranch\u001b[0m\u001b[0;34m.\u001b[0m\u001b[0mname\u001b[0m \u001b[0;32mif\u001b[0m \u001b[0mnamedecode\u001b[0m \u001b[0;32mis\u001b[0m \u001b[0;32mNone\u001b[0m \u001b[0;32melse\u001b[0m \u001b[0mbranch\u001b[0m\u001b[0;34m.\u001b[0m\u001b[0mname\u001b[0m\u001b[0;34m.\u001b[0m\u001b[0mdecode\u001b[0m\u001b[0;34m(\u001b[0m\u001b[0mnamedecode\u001b[0m\u001b[0;34m)\u001b[0m\u001b[0;34m,\u001b[0m \u001b[0minterpretation\u001b[0m\u001b[0;34m,\u001b[0m \u001b[0mbranch\u001b[0m\u001b[0;34m.\u001b[0m\u001b[0marray\u001b[0m\u001b[0;34m(\u001b[0m\u001b[0minterpretation\u001b[0m\u001b[0;34m=\u001b[0m\u001b[0minterpretation\u001b[0m\u001b[0;34m,\u001b[0m \u001b[0mentrystart\u001b[0m\u001b[0;34m=\u001b[0m\u001b[0mentrystart\u001b[0m\u001b[0;34m,\u001b[0m \u001b[0mentrystop\u001b[0m\u001b[0;34m=\u001b[0m\u001b[0mentrystop\u001b[0m\u001b[0;34m,\u001b[0m \u001b[0mflatten\u001b[0m\u001b[0;34m=\u001b[0m\u001b[0;34m(\u001b[0m\u001b[0mflatten\u001b[0m \u001b[0;32mand\u001b[0m \u001b[0;32mnot\u001b[0m \u001b[0mispandas\u001b[0m\u001b[0;34m)\u001b[0m\u001b[0;34m,\u001b[0m \u001b[0mawkwardlib\u001b[0m\u001b[0;34m=\u001b[0m\u001b[0mawkward\u001b[0m\u001b[0;34m,\u001b[0m \u001b[0mcache\u001b[0m\u001b[0;34m=\u001b[0m\u001b[0mcache\u001b[0m\u001b[0;34m,\u001b[0m \u001b[0mbasketcache\u001b[0m\u001b[0;34m=\u001b[0m\u001b[0mbasketcache\u001b[0m\u001b[0;34m,\u001b[0m \u001b[0mkeycache\u001b[0m\u001b[0;34m=\u001b[0m\u001b[0mkeycache\u001b[0m\u001b[0;34m,\u001b[0m \u001b[0mexecutor\u001b[0m\u001b[0;34m=\u001b[0m\u001b[0mexecutor\u001b[0m\u001b[0;34m,\u001b[0m \u001b[0mblocking\u001b[0m\u001b[0;34m=\u001b[0m\u001b[0;32mFalse\u001b[0m\u001b[0;34m)\u001b[0m\u001b[0;34m)\u001b[0m \u001b[0;32mfor\u001b[0m \u001b[0mbranch\u001b[0m\u001b[0;34m,\u001b[0m \u001b[0minterpretation\u001b[0m \u001b[0;32min\u001b[0m \u001b[0mbranches\u001b[0m\u001b[0;34m]\u001b[0m\u001b[0;34m\u001b[0m\u001b[0;34m\u001b[0m\u001b[0m\n\u001b[0m\u001b[1;32m    553\u001b[0m \u001b[0;34m\u001b[0m\u001b[0m\n\u001b[1;32m    554\u001b[0m         \u001b[0;31m# make functions that wait for the filling job to be done and return the right outputtype\u001b[0m\u001b[0;34m\u001b[0m\u001b[0;34m\u001b[0m\u001b[0;34m\u001b[0m\u001b[0m\n",
      "\u001b[0;32m/usr/local/lib/python3.6/site-packages/uproot/tree.py\u001b[0m in \u001b[0;36m<listcomp>\u001b[0;34m(.0)\u001b[0m\n\u001b[1;32m    550\u001b[0m             \u001b[0mfutures\u001b[0m \u001b[0;34m=\u001b[0m \u001b[0;34m[\u001b[0m\u001b[0;34m(\u001b[0m\u001b[0mwrap_name\u001b[0m\u001b[0;34m(\u001b[0m\u001b[0mbranch\u001b[0m\u001b[0;34m,\u001b[0m \u001b[0mnamedecode\u001b[0m\u001b[0;34m)\u001b[0m\u001b[0;34m,\u001b[0m \u001b[0minterpretation\u001b[0m\u001b[0;34m,\u001b[0m \u001b[0mbranch\u001b[0m\u001b[0;34m.\u001b[0m\u001b[0marray\u001b[0m\u001b[0;34m(\u001b[0m\u001b[0minterpretation\u001b[0m\u001b[0;34m=\u001b[0m\u001b[0minterpretation\u001b[0m\u001b[0;34m,\u001b[0m \u001b[0mentrystart\u001b[0m\u001b[0;34m=\u001b[0m\u001b[0mentrystart\u001b[0m\u001b[0;34m,\u001b[0m \u001b[0mentrystop\u001b[0m\u001b[0;34m=\u001b[0m\u001b[0mentrystop\u001b[0m\u001b[0;34m,\u001b[0m \u001b[0mflatten\u001b[0m\u001b[0;34m=\u001b[0m\u001b[0;34m(\u001b[0m\u001b[0mflatten\u001b[0m \u001b[0;32mand\u001b[0m \u001b[0;32mnot\u001b[0m \u001b[0mispandas\u001b[0m\u001b[0;34m)\u001b[0m\u001b[0;34m,\u001b[0m \u001b[0mawkwardlib\u001b[0m\u001b[0;34m=\u001b[0m\u001b[0mawkward\u001b[0m\u001b[0;34m,\u001b[0m \u001b[0mcache\u001b[0m\u001b[0;34m=\u001b[0m\u001b[0mcache\u001b[0m\u001b[0;34m,\u001b[0m \u001b[0mbasketcache\u001b[0m\u001b[0;34m=\u001b[0m\u001b[0mbasketcache\u001b[0m\u001b[0;34m,\u001b[0m \u001b[0mkeycache\u001b[0m\u001b[0;34m=\u001b[0m\u001b[0mkeycache\u001b[0m\u001b[0;34m,\u001b[0m \u001b[0mexecutor\u001b[0m\u001b[0;34m=\u001b[0m\u001b[0mexecutor\u001b[0m\u001b[0;34m,\u001b[0m \u001b[0mblocking\u001b[0m\u001b[0;34m=\u001b[0m\u001b[0;32mFalse\u001b[0m\u001b[0;34m)\u001b[0m\u001b[0;34m)\u001b[0m \u001b[0;32mfor\u001b[0m \u001b[0mbranch\u001b[0m\u001b[0;34m,\u001b[0m \u001b[0minterpretation\u001b[0m \u001b[0;32min\u001b[0m \u001b[0mbranches\u001b[0m\u001b[0;34m]\u001b[0m\u001b[0;34m\u001b[0m\u001b[0;34m\u001b[0m\u001b[0m\n\u001b[1;32m    551\u001b[0m         \u001b[0;32melse\u001b[0m\u001b[0;34m:\u001b[0m\u001b[0;34m\u001b[0m\u001b[0;34m\u001b[0m\u001b[0m\n\u001b[0;32m--> 552\u001b[0;31m             \u001b[0mfutures\u001b[0m \u001b[0;34m=\u001b[0m \u001b[0;34m[\u001b[0m\u001b[0;34m(\u001b[0m\u001b[0mbranch\u001b[0m\u001b[0;34m.\u001b[0m\u001b[0mname\u001b[0m \u001b[0;32mif\u001b[0m \u001b[0mnamedecode\u001b[0m \u001b[0;32mis\u001b[0m \u001b[0;32mNone\u001b[0m \u001b[0;32melse\u001b[0m \u001b[0mbranch\u001b[0m\u001b[0;34m.\u001b[0m\u001b[0mname\u001b[0m\u001b[0;34m.\u001b[0m\u001b[0mdecode\u001b[0m\u001b[0;34m(\u001b[0m\u001b[0mnamedecode\u001b[0m\u001b[0;34m)\u001b[0m\u001b[0;34m,\u001b[0m \u001b[0minterpretation\u001b[0m\u001b[0;34m,\u001b[0m \u001b[0mbranch\u001b[0m\u001b[0;34m.\u001b[0m\u001b[0marray\u001b[0m\u001b[0;34m(\u001b[0m\u001b[0minterpretation\u001b[0m\u001b[0;34m=\u001b[0m\u001b[0minterpretation\u001b[0m\u001b[0;34m,\u001b[0m \u001b[0mentrystart\u001b[0m\u001b[0;34m=\u001b[0m\u001b[0mentrystart\u001b[0m\u001b[0;34m,\u001b[0m \u001b[0mentrystop\u001b[0m\u001b[0;34m=\u001b[0m\u001b[0mentrystop\u001b[0m\u001b[0;34m,\u001b[0m \u001b[0mflatten\u001b[0m\u001b[0;34m=\u001b[0m\u001b[0;34m(\u001b[0m\u001b[0mflatten\u001b[0m \u001b[0;32mand\u001b[0m \u001b[0;32mnot\u001b[0m \u001b[0mispandas\u001b[0m\u001b[0;34m)\u001b[0m\u001b[0;34m,\u001b[0m \u001b[0mawkwardlib\u001b[0m\u001b[0;34m=\u001b[0m\u001b[0mawkward\u001b[0m\u001b[0;34m,\u001b[0m \u001b[0mcache\u001b[0m\u001b[0;34m=\u001b[0m\u001b[0mcache\u001b[0m\u001b[0;34m,\u001b[0m \u001b[0mbasketcache\u001b[0m\u001b[0;34m=\u001b[0m\u001b[0mbasketcache\u001b[0m\u001b[0;34m,\u001b[0m \u001b[0mkeycache\u001b[0m\u001b[0;34m=\u001b[0m\u001b[0mkeycache\u001b[0m\u001b[0;34m,\u001b[0m \u001b[0mexecutor\u001b[0m\u001b[0;34m=\u001b[0m\u001b[0mexecutor\u001b[0m\u001b[0;34m,\u001b[0m \u001b[0mblocking\u001b[0m\u001b[0;34m=\u001b[0m\u001b[0;32mFalse\u001b[0m\u001b[0;34m)\u001b[0m\u001b[0;34m)\u001b[0m \u001b[0;32mfor\u001b[0m \u001b[0mbranch\u001b[0m\u001b[0;34m,\u001b[0m \u001b[0minterpretation\u001b[0m \u001b[0;32min\u001b[0m \u001b[0mbranches\u001b[0m\u001b[0;34m]\u001b[0m\u001b[0;34m\u001b[0m\u001b[0;34m\u001b[0m\u001b[0m\n\u001b[0m\u001b[1;32m    553\u001b[0m \u001b[0;34m\u001b[0m\u001b[0m\n\u001b[1;32m    554\u001b[0m         \u001b[0;31m# make functions that wait for the filling job to be done and return the right outputtype\u001b[0m\u001b[0;34m\u001b[0m\u001b[0;34m\u001b[0m\u001b[0;34m\u001b[0m\u001b[0m\n",
      "\u001b[0;32m/usr/local/lib/python3.6/site-packages/uproot/tree.py\u001b[0m in \u001b[0;36marray\u001b[0;34m(self, interpretation, entrystart, entrystop, flatten, awkwardlib, cache, basketcache, keycache, executor, blocking)\u001b[0m\n\u001b[1;32m   1415\u001b[0m             \u001b[0mkeycache\u001b[0m \u001b[0;34m=\u001b[0m \u001b[0;34m{\u001b[0m\u001b[0;34m}\u001b[0m\u001b[0;34m\u001b[0m\u001b[0;34m\u001b[0m\u001b[0m\n\u001b[1;32m   1416\u001b[0m \u001b[0;34m\u001b[0m\u001b[0m\n\u001b[0;32m-> 1417\u001b[0;31m         \u001b[0mbasket_itemoffset\u001b[0m \u001b[0;34m=\u001b[0m \u001b[0mself\u001b[0m\u001b[0;34m.\u001b[0m\u001b[0m_basket_itemoffset\u001b[0m\u001b[0;34m(\u001b[0m\u001b[0minterpretation\u001b[0m\u001b[0;34m,\u001b[0m \u001b[0mbasketstart\u001b[0m\u001b[0;34m,\u001b[0m \u001b[0mbasketstop\u001b[0m\u001b[0;34m,\u001b[0m \u001b[0mkeycache\u001b[0m\u001b[0;34m)\u001b[0m\u001b[0;34m\u001b[0m\u001b[0;34m\u001b[0m\u001b[0m\n\u001b[0m\u001b[1;32m   1418\u001b[0m         \u001b[0mbasket_entryoffset\u001b[0m \u001b[0;34m=\u001b[0m \u001b[0mself\u001b[0m\u001b[0;34m.\u001b[0m\u001b[0m_basket_entryoffset\u001b[0m\u001b[0;34m(\u001b[0m\u001b[0mbasketstart\u001b[0m\u001b[0;34m,\u001b[0m \u001b[0mbasketstop\u001b[0m\u001b[0;34m)\u001b[0m\u001b[0;34m\u001b[0m\u001b[0;34m\u001b[0m\u001b[0m\n\u001b[1;32m   1419\u001b[0m \u001b[0;34m\u001b[0m\u001b[0m\n",
      "\u001b[0;32m/usr/local/lib/python3.6/site-packages/uproot/tree.py\u001b[0m in \u001b[0;36m_basket_itemoffset\u001b[0;34m(self, interpretation, basketstart, basketstop, keycache)\u001b[0m\n\u001b[1;32m   1368\u001b[0m     \u001b[0;32mdef\u001b[0m \u001b[0m_basket_itemoffset\u001b[0m\u001b[0;34m(\u001b[0m\u001b[0mself\u001b[0m\u001b[0;34m,\u001b[0m \u001b[0minterpretation\u001b[0m\u001b[0;34m,\u001b[0m \u001b[0mbasketstart\u001b[0m\u001b[0;34m,\u001b[0m \u001b[0mbasketstop\u001b[0m\u001b[0;34m,\u001b[0m \u001b[0mkeycache\u001b[0m\u001b[0;34m)\u001b[0m\u001b[0;34m:\u001b[0m\u001b[0;34m\u001b[0m\u001b[0;34m\u001b[0m\u001b[0m\n\u001b[1;32m   1369\u001b[0m         \u001b[0mbasket_itemoffset\u001b[0m \u001b[0;34m=\u001b[0m \u001b[0;34m[\u001b[0m\u001b[0;36m0\u001b[0m\u001b[0;34m]\u001b[0m\u001b[0;34m\u001b[0m\u001b[0;34m\u001b[0m\u001b[0m\n\u001b[0;32m-> 1370\u001b[0;31m         \u001b[0;32mfor\u001b[0m \u001b[0mj\u001b[0m\u001b[0;34m,\u001b[0m \u001b[0mkey\u001b[0m \u001b[0;32min\u001b[0m \u001b[0menumerate\u001b[0m\u001b[0;34m(\u001b[0m\u001b[0mself\u001b[0m\u001b[0;34m.\u001b[0m\u001b[0m_threadsafe_iterate_keys\u001b[0m\u001b[0;34m(\u001b[0m\u001b[0mkeycache\u001b[0m\u001b[0;34m,\u001b[0m \u001b[0;32mTrue\u001b[0m\u001b[0;34m,\u001b[0m \u001b[0mbasketstart\u001b[0m\u001b[0;34m,\u001b[0m \u001b[0mbasketstop\u001b[0m\u001b[0;34m)\u001b[0m\u001b[0;34m)\u001b[0m\u001b[0;34m:\u001b[0m\u001b[0;34m\u001b[0m\u001b[0;34m\u001b[0m\u001b[0m\n\u001b[0m\u001b[1;32m   1371\u001b[0m             \u001b[0mi\u001b[0m \u001b[0;34m=\u001b[0m \u001b[0mbasketstart\u001b[0m \u001b[0;34m+\u001b[0m \u001b[0mj\u001b[0m\u001b[0;34m\u001b[0m\u001b[0;34m\u001b[0m\u001b[0m\n\u001b[1;32m   1372\u001b[0m             \u001b[0mnumitems\u001b[0m \u001b[0;34m=\u001b[0m \u001b[0minterpretation\u001b[0m\u001b[0;34m.\u001b[0m\u001b[0mnumitems\u001b[0m\u001b[0;34m(\u001b[0m\u001b[0mkey\u001b[0m\u001b[0;34m.\u001b[0m\u001b[0mborder\u001b[0m\u001b[0;34m,\u001b[0m \u001b[0mself\u001b[0m\u001b[0;34m.\u001b[0m\u001b[0mbasket_numentries\u001b[0m\u001b[0;34m(\u001b[0m\u001b[0mi\u001b[0m\u001b[0;34m)\u001b[0m\u001b[0;34m)\u001b[0m\u001b[0;34m\u001b[0m\u001b[0;34m\u001b[0m\u001b[0m\n",
      "\u001b[0;32m/usr/local/lib/python3.6/site-packages/uproot/tree.py\u001b[0m in \u001b[0;36m_threadsafe_iterate_keys\u001b[0;34m(self, keycache, complete, basketstart, basketstop)\u001b[0m\n\u001b[1;32m   1074\u001b[0m                     \u001b[0mkey\u001b[0m \u001b[0;34m=\u001b[0m \u001b[0;32mNone\u001b[0m \u001b[0;32mif\u001b[0m \u001b[0mkeycache\u001b[0m \u001b[0;32mis\u001b[0m \u001b[0;32mNone\u001b[0m \u001b[0;32melse\u001b[0m \u001b[0mkeycache\u001b[0m\u001b[0;34m.\u001b[0m\u001b[0mget\u001b[0m\u001b[0;34m(\u001b[0m\u001b[0mself\u001b[0m\u001b[0;34m.\u001b[0m\u001b[0m_keycachekey\u001b[0m\u001b[0;34m(\u001b[0m\u001b[0mi\u001b[0m\u001b[0;34m)\u001b[0m\u001b[0;34m,\u001b[0m \u001b[0;32mNone\u001b[0m\u001b[0;34m)\u001b[0m\u001b[0;34m\u001b[0m\u001b[0;34m\u001b[0m\u001b[0m\n\u001b[1;32m   1075\u001b[0m                     \u001b[0;32mif\u001b[0m \u001b[0mkey\u001b[0m \u001b[0;32mis\u001b[0m \u001b[0;32mNone\u001b[0m \u001b[0;32mor\u001b[0m \u001b[0;34m(\u001b[0m\u001b[0mcomplete\u001b[0m \u001b[0;32mand\u001b[0m \u001b[0;32mnot\u001b[0m \u001b[0mhasattr\u001b[0m\u001b[0;34m(\u001b[0m\u001b[0mkey\u001b[0m\u001b[0;34m,\u001b[0m \u001b[0;34m\"border\"\u001b[0m\u001b[0;34m)\u001b[0m\u001b[0;34m)\u001b[0m\u001b[0;34m:\u001b[0m\u001b[0;34m\u001b[0m\u001b[0;34m\u001b[0m\u001b[0m\n\u001b[0;32m-> 1076\u001b[0;31m                         \u001b[0mkey\u001b[0m \u001b[0;34m=\u001b[0m \u001b[0mself\u001b[0m\u001b[0;34m.\u001b[0m\u001b[0m_basketkey\u001b[0m\u001b[0;34m(\u001b[0m\u001b[0mkeysource\u001b[0m\u001b[0;34m,\u001b[0m \u001b[0mi\u001b[0m\u001b[0;34m,\u001b[0m \u001b[0mcomplete\u001b[0m\u001b[0;34m)\u001b[0m\u001b[0;34m\u001b[0m\u001b[0;34m\u001b[0m\u001b[0m\n\u001b[0m\u001b[1;32m   1077\u001b[0m                         \u001b[0;32mif\u001b[0m \u001b[0mkeycache\u001b[0m \u001b[0;32mis\u001b[0m \u001b[0;32mnot\u001b[0m \u001b[0;32mNone\u001b[0m\u001b[0;34m:\u001b[0m\u001b[0;34m\u001b[0m\u001b[0;34m\u001b[0m\u001b[0m\n\u001b[1;32m   1078\u001b[0m                             \u001b[0mkeycache\u001b[0m\u001b[0;34m[\u001b[0m\u001b[0mself\u001b[0m\u001b[0;34m.\u001b[0m\u001b[0m_keycachekey\u001b[0m\u001b[0;34m(\u001b[0m\u001b[0mi\u001b[0m\u001b[0;34m)\u001b[0m\u001b[0;34m]\u001b[0m \u001b[0;34m=\u001b[0m \u001b[0mkey\u001b[0m\u001b[0;34m\u001b[0m\u001b[0;34m\u001b[0m\u001b[0m\n",
      "\u001b[0;32m/usr/local/lib/python3.6/site-packages/uproot/tree.py\u001b[0m in \u001b[0;36m_basketkey\u001b[0;34m(self, source, i, complete)\u001b[0m\n\u001b[1;32m   1791\u001b[0m     \u001b[0;32mdef\u001b[0m \u001b[0m_basketkey\u001b[0m\u001b[0;34m(\u001b[0m\u001b[0mself\u001b[0m\u001b[0;34m,\u001b[0m \u001b[0msource\u001b[0m\u001b[0;34m,\u001b[0m \u001b[0mi\u001b[0m\u001b[0;34m,\u001b[0m \u001b[0mcomplete\u001b[0m\u001b[0;34m)\u001b[0m\u001b[0;34m:\u001b[0m\u001b[0;34m\u001b[0m\u001b[0;34m\u001b[0m\u001b[0m\n\u001b[1;32m   1792\u001b[0m         \u001b[0;32mif\u001b[0m \u001b[0;36m0\u001b[0m \u001b[0;34m<=\u001b[0m \u001b[0mi\u001b[0m \u001b[0;34m<\u001b[0m \u001b[0mself\u001b[0m\u001b[0;34m.\u001b[0m\u001b[0m_numgoodbaskets\u001b[0m\u001b[0;34m:\u001b[0m\u001b[0;34m\u001b[0m\u001b[0;34m\u001b[0m\u001b[0m\n\u001b[0;32m-> 1793\u001b[0;31m             \u001b[0;32mreturn\u001b[0m \u001b[0mself\u001b[0m\u001b[0;34m.\u001b[0m\u001b[0m_BasketKey\u001b[0m\u001b[0;34m(\u001b[0m\u001b[0msource\u001b[0m\u001b[0;34m.\u001b[0m\u001b[0mparent\u001b[0m\u001b[0;34m(\u001b[0m\u001b[0;34m)\u001b[0m\u001b[0;34m,\u001b[0m \u001b[0mCursor\u001b[0m\u001b[0;34m(\u001b[0m\u001b[0mself\u001b[0m\u001b[0;34m.\u001b[0m\u001b[0m_fBasketSeek\u001b[0m\u001b[0;34m[\u001b[0m\u001b[0mi\u001b[0m\u001b[0;34m]\u001b[0m\u001b[0;34m)\u001b[0m\u001b[0;34m,\u001b[0m \u001b[0mself\u001b[0m\u001b[0;34m.\u001b[0m\u001b[0mcompression\u001b[0m\u001b[0;34m,\u001b[0m \u001b[0mcomplete\u001b[0m\u001b[0;34m)\u001b[0m\u001b[0;34m\u001b[0m\u001b[0;34m\u001b[0m\u001b[0m\n\u001b[0m\u001b[1;32m   1794\u001b[0m \u001b[0;34m\u001b[0m\u001b[0m\n\u001b[1;32m   1795\u001b[0m         \u001b[0;32melif\u001b[0m \u001b[0mself\u001b[0m\u001b[0;34m.\u001b[0m\u001b[0m_numgoodbaskets\u001b[0m \u001b[0;34m<=\u001b[0m \u001b[0mi\u001b[0m \u001b[0;34m<\u001b[0m \u001b[0mself\u001b[0m\u001b[0;34m.\u001b[0m\u001b[0mnumbaskets\u001b[0m\u001b[0;34m:\u001b[0m\u001b[0;34m\u001b[0m\u001b[0;34m\u001b[0m\u001b[0m\n",
      "\u001b[0;32m/usr/local/lib/python3.6/site-packages/uproot/tree.py\u001b[0m in \u001b[0;36m__init__\u001b[0;34m(self, source, cursor, compression, complete)\u001b[0m\n\u001b[1;32m   1669\u001b[0m         \u001b[0;32mdef\u001b[0m \u001b[0m__init__\u001b[0m\u001b[0;34m(\u001b[0m\u001b[0mself\u001b[0m\u001b[0;34m,\u001b[0m \u001b[0msource\u001b[0m\u001b[0;34m,\u001b[0m \u001b[0mcursor\u001b[0m\u001b[0;34m,\u001b[0m \u001b[0mcompression\u001b[0m\u001b[0;34m,\u001b[0m \u001b[0mcomplete\u001b[0m\u001b[0;34m)\u001b[0m\u001b[0;34m:\u001b[0m\u001b[0;34m\u001b[0m\u001b[0;34m\u001b[0m\u001b[0m\n\u001b[1;32m   1670\u001b[0m             \u001b[0mstart\u001b[0m \u001b[0;34m=\u001b[0m \u001b[0mcursor\u001b[0m\u001b[0;34m.\u001b[0m\u001b[0mindex\u001b[0m\u001b[0;34m\u001b[0m\u001b[0;34m\u001b[0m\u001b[0m\n\u001b[0;32m-> 1671\u001b[0;31m             \u001b[0mself\u001b[0m\u001b[0;34m.\u001b[0m\u001b[0m_fNbytes\u001b[0m\u001b[0;34m,\u001b[0m \u001b[0mself\u001b[0m\u001b[0;34m.\u001b[0m\u001b[0m_fVersion\u001b[0m\u001b[0;34m,\u001b[0m \u001b[0mself\u001b[0m\u001b[0;34m.\u001b[0m\u001b[0m_fObjlen\u001b[0m\u001b[0;34m,\u001b[0m \u001b[0mself\u001b[0m\u001b[0;34m.\u001b[0m\u001b[0m_fDatime\u001b[0m\u001b[0;34m,\u001b[0m \u001b[0mself\u001b[0m\u001b[0;34m.\u001b[0m\u001b[0m_fKeylen\u001b[0m\u001b[0;34m,\u001b[0m \u001b[0mself\u001b[0m\u001b[0;34m.\u001b[0m\u001b[0m_fCycle\u001b[0m\u001b[0;34m,\u001b[0m \u001b[0mself\u001b[0m\u001b[0;34m.\u001b[0m\u001b[0m_fSeekKey\u001b[0m\u001b[0;34m,\u001b[0m \u001b[0mself\u001b[0m\u001b[0;34m.\u001b[0m\u001b[0m_fSeekPdir\u001b[0m \u001b[0;34m=\u001b[0m \u001b[0mcursor\u001b[0m\u001b[0;34m.\u001b[0m\u001b[0mfields\u001b[0m\u001b[0;34m(\u001b[0m\u001b[0msource\u001b[0m\u001b[0;34m,\u001b[0m \u001b[0mTBranchMethods\u001b[0m\u001b[0;34m.\u001b[0m\u001b[0m_BasketKey\u001b[0m\u001b[0;34m.\u001b[0m\u001b[0m_format_small\u001b[0m\u001b[0;34m)\u001b[0m\u001b[0;34m\u001b[0m\u001b[0;34m\u001b[0m\u001b[0m\n\u001b[0m\u001b[1;32m   1672\u001b[0m \u001b[0;34m\u001b[0m\u001b[0m\n\u001b[1;32m   1673\u001b[0m             \u001b[0;32mif\u001b[0m \u001b[0mself\u001b[0m\u001b[0;34m.\u001b[0m\u001b[0m_fVersion\u001b[0m \u001b[0;34m>\u001b[0m \u001b[0;36m1000\u001b[0m\u001b[0;34m:\u001b[0m\u001b[0;34m\u001b[0m\u001b[0;34m\u001b[0m\u001b[0m\n",
      "\u001b[0;32m/usr/local/lib/python3.6/site-packages/uproot/source/cursor.py\u001b[0m in \u001b[0;36mfields\u001b[0;34m(self, source, format)\u001b[0m\n\u001b[1;32m     44\u001b[0m         \u001b[0mstart\u001b[0m \u001b[0;34m=\u001b[0m \u001b[0mself\u001b[0m\u001b[0;34m.\u001b[0m\u001b[0mindex\u001b[0m\u001b[0;34m\u001b[0m\u001b[0;34m\u001b[0m\u001b[0m\n\u001b[1;32m     45\u001b[0m         \u001b[0mstop\u001b[0m \u001b[0;34m=\u001b[0m \u001b[0mself\u001b[0m\u001b[0;34m.\u001b[0m\u001b[0mindex\u001b[0m \u001b[0;34m=\u001b[0m \u001b[0mstart\u001b[0m \u001b[0;34m+\u001b[0m \u001b[0mformat\u001b[0m\u001b[0;34m.\u001b[0m\u001b[0msize\u001b[0m\u001b[0;34m\u001b[0m\u001b[0;34m\u001b[0m\u001b[0m\n\u001b[0;32m---> 46\u001b[0;31m         \u001b[0;32mreturn\u001b[0m \u001b[0mformat\u001b[0m\u001b[0;34m.\u001b[0m\u001b[0munpack\u001b[0m\u001b[0;34m(\u001b[0m\u001b[0msource\u001b[0m\u001b[0;34m.\u001b[0m\u001b[0mdata\u001b[0m\u001b[0;34m(\u001b[0m\u001b[0mstart\u001b[0m\u001b[0;34m,\u001b[0m \u001b[0mstop\u001b[0m\u001b[0;34m)\u001b[0m\u001b[0;34m)\u001b[0m\u001b[0;34m\u001b[0m\u001b[0;34m\u001b[0m\u001b[0m\n\u001b[0m\u001b[1;32m     47\u001b[0m \u001b[0;34m\u001b[0m\u001b[0m\n\u001b[1;32m     48\u001b[0m     \u001b[0;32mdef\u001b[0m \u001b[0mfield\u001b[0m\u001b[0;34m(\u001b[0m\u001b[0mself\u001b[0m\u001b[0;34m,\u001b[0m \u001b[0msource\u001b[0m\u001b[0;34m,\u001b[0m \u001b[0mformat\u001b[0m\u001b[0;34m)\u001b[0m\u001b[0;34m:\u001b[0m\u001b[0;34m\u001b[0m\u001b[0;34m\u001b[0m\u001b[0m\n",
      "\u001b[0;31mKeyboardInterrupt\u001b[0m: "
     ]
    }
   ],
   "source": [
    "##Getting ROOT files into pandas\n",
    "df_signalX = uproot.open(signalFileName)['SusyLLPTree'].pandas.df([row[0] for row in variablesX], flatten=True)\n",
    "df_signalY = uproot.open(signalFileName)['SusyLLPTree'].pandas.df([row[0] for row in variablesY], flatten=True)\n",
    "\n",
    "df_bkg1X = uproot.open(bkg1FileName)['SusyLLPTree'].pandas.df([row[0] for row in variablesX], flatten=True)\n",
    "df_bkg2X = uproot.open(bkg2FileName)['SusyLLPTree'].pandas.df([row[0] for row in variablesX], flatten=True)\n",
    "# df_bkg3X = uproot.open(bkg3FileName)['SusyLLPTree'].pandas.df([row[0] for row in variablesX], flatten=True)\n",
    "# df_bkg4X = uproot.open(bkg4FileName)['SusyLLPTree'].pandas.df([row[0] for row in variablesX], flatten=True)\n",
    "df_bkg1Y = uproot.open(bkg1FileName)['SusyLLPTree'].pandas.df([row[0] for row in variablesY], flatten=True)\n",
    "df_bkg2Y = uproot.open(bkg2FileName)['SusyLLPTree'].pandas.df([row[0] for row in variablesY], flatten=True)\n",
    "# df_bkg3Y = uproot.open(bkg3FileName)['SusyLLPTree'].pandas.df([row[0] for row in variablesY], flatten=True)\n",
    "# df_bkg4Y = uproot.open(bkg4FileName)['SusyLLPTree'].pandas.df([row[0] for row in variablesY], flatten=True)\n",
    "\n",
    "# df_bkgX = uproot.open(bkgFileName)['SusyLLPTree'].pandas.df([row[0] for row in variablesX], flatten=True)\n",
    "# df_bkgY = uproot.open(bkgFileName)['SusyLLPTree'].pandas.df([row[0] for row in variablesY], flatten=True)\n",
    "\n",
    "# df_signal = uproot.open(signalFileName)['SusyLLPTree'].pandas.df([row[0] for row in variables], flatten=True)\n",
    "# df_bkg = uproot.open(bkgFileName)['SusyLLPTree'].pandas.df([row[0] for row in variables], flatten=True)\n",
    "# df_signal = uproot.open(signalFileName)['BDT_Tree'].pandas.df([row[0] for row in variables], flatten=True)\n",
    "# df_bkg = uproot.open(bkgFileName)['BDT_Tree'].pandas.df([row[0] for row in variables], flatten=True)\n"
   ]
  },
  {
   "cell_type": "code",
   "execution_count": 7,
   "metadata": {},
   "outputs": [],
   "source": [
    "#weight\n",
    "#sig\n",
    "sig_root_dir = uproot.open(signalFileName) \n",
    "# sig_tree = sig_root_dir['BDT_Tree']\n",
    "sig_tree = sig_root_dir['SusyLLPTree']\n",
    "# #branches\n",
    "sig_w = sig_tree['weight'].array() \n",
    "sig_jet_pt = sig_tree['jetPt'].array()\n",
    "# sig_w = sig_tree['weight_'].array() \n",
    "# sig_jet_pt = sig_tree['jetPt_'].array()\n",
    "from itertools import chain \n",
    "sig_flat_w = [np.array([x]*len(y)) for x,y in zip(sig_w,sig_jet_pt)]\n",
    "sig_flat_w = list(chain.from_iterable(sig_flat_w))\n",
    "sig_flat_w = [x*137000 for x in sig_flat_w]\n",
    "# sig_w = sig_tree['flat_w'].array().flatten()\n",
    "# bkg\n",
    "bkg_root_dir = uproot.open(bkgFileName) \n",
    "# bkg_tree = bkg_root_dir['BDT_Tree']\n",
    "bkg_tree = bkg_root_dir['SusyLLPTree']\n",
    "# #branches\n",
    "bkg_w = bkg_tree['weight'].array() \n",
    "bkg_jet_pt = bkg_tree['jetPt'].array()\n",
    "# bkg_w = bkg_tree['weight_'].array() \n",
    "# bkg_jet_pt = bkg_tree['jetPt_'].array()\n",
    "bkg_flat_w = [np.array([x]*len(y)) for x,y in zip(bkg_w,bkg_jet_pt)]\n",
    "bkg_flat_w = list(chain.from_iterable(bkg_flat_w)) \n",
    "bkg_flat_w = [x*137000 for x in bkg_flat_w]\n",
    "# bkg_w = bkg_tree['flat_w'].array().flatten()\n",
    "# sample weight\n",
    "# sample_w = np.concatenate([sig_flat_w,bkg_flat_w])"
   ]
  },
  {
   "cell_type": "code",
   "execution_count": 28,
   "metadata": {},
   "outputs": [
    {
     "name": "stdout",
     "output_type": "stream",
     "text": [
      "1.1042597825507983\n",
      "()\n",
      "6994\n",
      "3502\n",
      "3502\n",
      "6994\n"
     ]
    }
   ],
   "source": [
    "sample_w = np.concatenate([bkg_flat_w,sig_flat_w])\n",
    "# sample_w = np.concatenate([sig_w,bkg_w])\n",
    "print(sig_flat_w[0])\n",
    "print(())\n",
    "print(len(sig_flat_w))\n",
    "print(len(sig_w))\n",
    "print(len(sig_jet_pt))\n",
    "print(len(sig_jet_pt.flatten()))"
   ]
  },
  {
   "cell_type": "code",
   "execution_count": 9,
   "metadata": {},
   "outputs": [],
   "source": [
    "## change nan to -999\n",
    "df_signalX = df_signalX.fillna(-999)\n",
    "df_signalY = df_signalY.fillna(-999)\n",
    "\n",
    "df_bkg1X = df_bkg1X.fillna(-999)\n",
    "df_bkg2X = df_bkg2X.fillna(-999)\n",
    "df_bkg3X = df_bkg3X.fillna(-999)\n",
    "df_bkg4X = df_bkg4X.fillna(-999)\n",
    "df_bkg1Y = df_bkg1Y.fillna(-999)\n",
    "df_bkg2Y = df_bkg2Y.fillna(-999)\n",
    "df_bkg3Y = df_bkg3Y.fillna(-999)\n",
    "df_bkg4Y = df_bkg4Y.fillna(-999)\n",
    "\n",
    "# df_bkgX = df_bkgX.fillna(-999)\n",
    "# df_bkgY = df_bkgY.fillna(-999)\n",
    "\n",
    "# df_signal = df_signal.fillna(-999)\n",
    "# df_bkg = df_bkg.fillna(-999)\n"
   ]
  },
  {
   "cell_type": "code",
   "execution_count": 17,
   "metadata": {},
   "outputs": [],
   "source": [
    "##Getting a numpy array out of two pandas data frame\n",
    "\n",
    "x = np.concatenate([df_bkg1X.values,df_bkg2X.values,df_bkg3X.values,df_bkg4X.values,df_signalX.values])\n",
    "y = np.concatenate([df_bkg1Y.values,df_bkg2Y.values,df_bkg3Y.values,df_bkg4Y.values,df_signalY.values])\n",
    "y_true = np.concatenate([np.zeros(len(df_bkg1X)),np.zeros(len(df_bkg2X)),np.zeros(len(df_bkg3X)),np.zeros(len(df_bkg4X)),\n",
    "np.ones(len(df_signalX))])\n",
    "\n",
    "# x = np.concatenate([df_bkgX.values,df_signalX.values])\n",
    "# y = np.concatenate([df_bkgY.values,df_signalY.values])\n",
    "# y_true = np.concatenate([np.zeros(len(df_bkg)),\n",
    "# np.ones(len(df_signal))])\n",
    "\n",
    "#getting a numpy array from two pandas data frames\n",
    "# x = np.concatenate([df_bkg.values,df_signal.values])\n",
    "#creating numpy array for target variables\n",
    "# y = np.concatenate([np.zeros(len(df_bkg)),\n",
    "# np.ones(len(df_signal))])"
   ]
  },
  {
   "cell_type": "code",
   "execution_count": 15,
   "metadata": {},
   "outputs": [],
   "source": [
    "# split data into train and test sets\n",
    "# seed = 7\n",
    "# test_size = 0.4\n",
    "# sample_size = 1.0\n",
    "# x_train, x_test, y_train, y_test, w_train, w_test = train_test_split(x, y, sample_w, train_size = sample_size*(1-test_size), test_size=sample_size*test_size, random_state=seed)"
   ]
  },
  {
   "cell_type": "code",
   "execution_count": 29,
   "metadata": {},
   "outputs": [],
   "source": [
    "#ROC \n",
    "# print(y[:])\n",
    "# fpr, tpr, thr = roc_curve(y_true, y)\n",
    "fpr, tpr, thr = roc_curve(y_true, y, sample_weight=sample_w)\n"
   ]
  },
  {
   "cell_type": "code",
   "execution_count": 21,
   "metadata": {},
   "outputs": [],
   "source": [
    "AUC = roc_auc_score(y_true, y)"
   ]
  },
  {
   "cell_type": "code",
   "execution_count": 27,
   "metadata": {},
   "outputs": [
    {
     "data": {
      "text/plain": [
       "Text(1.0, 1.01, '13 TeV')"
      ]
     },
     "execution_count": 27,
     "metadata": {},
     "output_type": "execute_result"
    },
    {
     "data": {
      "image/png": "[encoded data removed]",
      "text/plain": [
       "<Figure size 432x288 with 1 Axes>"
      ]
     },
     "metadata": {
      "needs_background": "light"
     },
     "output_type": "display_data"
    }
   ],
   "source": [
    "#plot roc curve\n",
    "f = plt.figure()\n",
    "ax = f.add_subplot(111)\n",
    "plt.subplots_adjust(top=0.9, bottom=0.15, left=0.15, right=0.95)\n",
    "lw = 2\n",
    "plt.plot(fpr, tpr, color='darkorange',\n",
    "         lw=lw, label='ROC curve')\n",
    "plt.plot([0, 1], [0, 1], color='navy', lw=lw, linestyle='--')\n",
    "plt.xscale('log')\n",
    "plt.xlim([0.0001, 1.0])\n",
    "plt.ylim([0.0, 1.05])\n",
    "plt.ylabel('Signal Efficiency',horizontalalignment='right', y=1.0, fontsize=15)\n",
    "plt.xlabel('Background Efficiency',horizontalalignment='right', x=1.0, fontsize=15)\n",
    "plt.xticks(fontsize=13)\n",
    "plt.yticks(fontsize=13) \n",
    "# plt.text(0.02,0.31,'AUC = %.4f'%AUC, fontsize=12)\n",
    "# plt.axhline(y=0.9, color=\"black\", linestyle='--')\n",
    "# plt.axvline(x=0.2, color=\"black\", linestyle='--')\n",
    "# plt.scatter(0.00045, 0.21271, marker='o')\n",
    "plt.axhline(y=0.2, color=\"black\", linestyle='--')\n",
    "#plt.show()\n",
    "plt.text(0.0, 1.01, \"CMS\", ha='left', va='bottom', transform=ax.transAxes, weight='bold', fontsize=17)\n",
    "plt.text(0.12, 1.01, \"Simulation Preliminary\", ha='left', va='bottom', transform=ax.transAxes, style='italic', fontsize=16)\n",
    "plt.text(1.0, 1.01, \"13 TeV\", ha='right', va='bottom', transform=ax.transAxes, fontsize=16)\n",
    "# plt.savefig(plotDir+'training/myroc_' + test_name + '.png')\n",
    "# os.system(\"chmod 755 \"+plotDir+\"training/*\")"
   ]
  },
  {
   "cell_type": "code",
   "execution_count": 30,
   "metadata": {},
   "outputs": [
    {
     "data": {
      "text/plain": [
       "Text(1.0, 1.01, '13 TeV')"
      ]
     },
     "execution_count": 30,
     "metadata": {},
     "output_type": "execute_result"
    },
    {
     "data": {
      "image/png": "[encoded data removed]",
      "text/plain": [
       "<Figure size 432x288 with 1 Axes>"
      ]
     },
     "metadata": {
      "needs_background": "light"
     },
     "output_type": "display_data"
    }
   ],
   "source": [
    "#plot roc curve\n",
    "f = plt.figure()\n",
    "ax = f.add_subplot(111)\n",
    "plt.subplots_adjust(top=0.9, bottom=0.15, left=0.15, right=0.95)\n",
    "lw = 2\n",
    "plt.plot(fpr, tpr, color='darkorange',\n",
    "         lw=lw, label='ROC curve')\n",
    "plt.plot([0, 1], [0, 1], color='navy', lw=lw, linestyle='--')\n",
    "plt.xscale('log')\n",
    "plt.xlim([0.0001, 1.0])\n",
    "plt.ylim([0.0, 1.05])\n",
    "plt.ylabel('Signal Efficiency',horizontalalignment='right', y=1.0, fontsize=15)\n",
    "plt.xlabel('Background Efficiency',horizontalalignment='right', x=1.0, fontsize=15)\n",
    "plt.xticks(fontsize=13)\n",
    "plt.yticks(fontsize=13) \n",
    "# plt.text(0.02,0.31,'AUC = %.4f'%AUC, fontsize=12)\n",
    "# plt.axhline(y=0.9, color=\"black\", linestyle='--')\n",
    "# plt.axvline(x=0.2, color=\"black\", linestyle='--')\n",
    "# plt.scatter(0.00045, 0.21271, marker='o')\n",
    "plt.axhline(y=0.2, color=\"black\", linestyle='--')\n",
    "#plt.show()\n",
    "plt.text(0.0, 1.01, \"CMS\", ha='left', va='bottom', transform=ax.transAxes, weight='bold', fontsize=17)\n",
    "plt.text(0.12, 1.01, \"Simulation Preliminary\", ha='left', va='bottom', transform=ax.transAxes, style='italic', fontsize=16)\n",
    "plt.text(1.0, 1.01, \"13 TeV\", ha='right', va='bottom', transform=ax.transAxes, fontsize=16)\n",
    "# plt.savefig(plotDir+'training/myroc_' + test_name + '.png')\n",
    "# os.system(\"chmod 755 \"+plotDir+\"training/*\")"
   ]
  },
  {
   "cell_type": "code",
   "execution_count": null,
   "metadata": {},
   "outputs": [],
   "source": []
  },
  {
   "cell_type": "code",
   "execution_count": 57,
   "metadata": {},
   "outputs": [
    {
     "name": "stdout",
     "output_type": "stream",
     "text": [
      "10 pfjetMinDeltaRPVTracks thre range 9.99 0.01\n",
      "pfjetMinDeltaRPVTracks\n",
      "ZNunu_HT_all, background 23821201\n",
      "H(bb)H(bb), N3N2, 200 GeV, 1 GeV, 1 m 2567\n",
      "999\n",
      "[0.94883152 0.82712575 0.68423438 0.54910379 0.43292534 0.33781405\n",
      " 0.26180359 0.20218019 0.15578584 0.11998439]\n",
      "0.0\n",
      "0.9488315245349691\n",
      "0.0\n",
      "[0.98753411 0.95675893 0.92481497 0.87612003 0.82547723 0.77834044\n",
      " 0.73665752 0.69731196 0.65952463 0.62719121]\n",
      "0.0\n",
      "0.9875341135091955\n",
      "1.5 CHEF thre range 1.4985 0.0015\n",
      "CHEF\n",
      "ZNunu_HT_all, background 23821201\n",
      "H(bb)H(bb), N3N2, 200 GeV, 1 GeV, 1 m 2567\n",
      "999\n",
      "[0.00013757 0.00016165 0.00019937 0.00025385 0.00031944 0.00039072\n",
      " 0.00046945 0.00055358 0.00063774 0.00072707]\n",
      "0.00013756693677540336\n",
      "1.0\n",
      "0.00013756693677540336\n",
      "[0.02571095 0.04324113 0.07908063 0.10946631 0.13790416 0.1714063\n",
      " 0.2002337  0.23061939 0.25827812 0.27853523]\n",
      "0.025710946765268212\n",
      "1.0\n",
      "1.5 pfjetGammaMax_ET thre range 1.4985 0.0015\n",
      "pfjetGammaMax_ET\n",
      "ZNunu_HT_all, background 23821201\n",
      "H(bb)H(bb), N3N2, 200 GeV, 1 GeV, 1 m 2567\n",
      "999\n",
      "[0.00253682 0.00254271 0.00256923 0.00264674 0.00279399 0.00298866\n",
      " 0.00321804 0.00346364 0.00372425 0.00400418]\n",
      "0.0025368160652109065\n",
      "0.9985986099629962\n",
      "0.0025368160652109065\n",
      "[0.17491233 0.19439032 0.23451498 0.27892479 0.32684063 0.37943118\n",
      " 0.43007407 0.47253602 0.50759641 0.53525516]\n",
      "0.1749123274431978\n",
      "1.0\n",
      "IT IS TIME\n",
      "50 pfjetTime thre range 4.99 -4.99\n",
      "pfjetTime\n",
      "ZNunu_HT_all, background 23821201\n"
     ]
    },
    {
     "name": "stderr",
     "output_type": "stream",
     "text": [
      "/usr/local/lib/python3.6/site-packages/ipykernel_launcher.py:69: RuntimeWarning: invalid value encountered in greater\n"
     ]
    },
    {
     "name": "stdout",
     "output_type": "stream",
     "text": [
      "H(bb)H(bb), N3N2, 200 GeV, 1 GeV, 1 m 2567\n",
      "999\n",
      "[0.98252165 0.98252032 0.98251929 0.98251832 0.98251662 0.98251581\n",
      " 0.9825133  0.98251189 0.98251093 0.98250894]\n",
      "0.00025362927555618774\n",
      "0.982521650589116\n",
      "0.00025362927555618774\n",
      "[0.9181924 0.9181924 0.9181924 0.9181924 0.9181924 0.9181924 0.9181924\n",
      " 0.9181924 0.9181924 0.9181924]\n",
      "0.0027269187815179767\n",
      "0.9181923963921598\n"
     ]
    },
    {
     "name": "stderr",
     "output_type": "stream",
     "text": [
      "Warning in <TCanvas::Constructor>: Deleting canvas with same name: c\n",
      "Info in <TCanvas::Print>: png file /storage/user/jmao/gpu/jmao/cms-llp/plots/20200115/ROC_ZNuNu.png has been created\n"
     ]
    },
    {
     "data": {
      "image/png": "[encoded data removed]",
      "text/plain": [
       "<IPython.core.display.Image object>"
      ]
     },
     "metadata": {},
     "output_type": "display_data"
    }
   ],
   "source": [
    "### ROC curve\n",
    "var_pf = [flat_jet_dr,   flat_jet_chef, flat_jet_tmf, flat_jet_t ]\n",
    "axis_pf = [['PFJet PV tracks #Delta R_{min}','Events'],  ['CHEF','Events'],['PFJet TMF_{MAX}','Events'] , ['PFJet time [ns]', 'Events'] ]\n",
    "name_pf = ['pfjetMinDeltaRPVTracks', 'CHEF','pfjetGammaMax_ET', 'pfjetTime'  ]\n",
    "bins_pf = [[50,0,10], [50,0,1.5],[50,0,1.5],[50,0,10], [50, -5, 5]]\n",
    "maxs_pf = [10,   1.5, 1.5, 50]\n",
    "\n",
    "sig_keys = ['H(bb)H(bb), N3N2, 200 GeV, 1 GeV, 1 m',]\n",
    "qcd_key = 'ZNunu_HT_all, background'\n",
    "#         'TT_Lep, background',\n",
    "#         'All, background',\n",
    "calo = 0\n",
    "pt_cut =100\n",
    "for sig_k in sig_keys:\n",
    "    c = rt.TCanvas('c','c', 800, 800)\n",
    "    leg = rt.TLegend(0.15,0.19,0.46,0.34)\n",
    "#     leg = rt.TLegend(0.65,0.19,0.86,0.34)\n",
    "    leg.SetTextSize(0.022)\n",
    "    leg.SetBorderSize(0)\n",
    "    leg.SetEntrySeparation(0.01)\n",
    "    gr = {}\n",
    "    purity = {}\n",
    "    if calo:\n",
    "        var = var_calo\n",
    "        name = name_calo\n",
    "        axis = axis_calo\n",
    "        maxs = maxs_calo\n",
    "    else:\n",
    "        var = var_pf\n",
    "        name = name_pf\n",
    "        axis = axis_pf\n",
    "        maxs = maxs_pf\n",
    "        \n",
    "    for i in range(len(var)):\n",
    "        v = var[i]\n",
    "        eff = {}\n",
    "        thre = maxs[i]*np.array(range(1,1000))/1000.0\n",
    "        if name[i]=='pfjetTime':\n",
    "            print('IT IS TIME')\n",
    "            thre = -5 + 10*np.array(range(1,1000))/1000.0\n",
    "            \n",
    "        print(maxs[i],name[i],'thre range',np.max(thre),np.min(thre))\n",
    "        print(name[i])\n",
    "        for k in tree.keys():\n",
    "            v = var[i][k]\n",
    "            print(k,len(v))\n",
    "            if len(v)==0:\n",
    "                print('no')\n",
    "                eff[k] = []\n",
    "                for th in thre:\n",
    "                    if 'MinDeltaR' in name[i]:\n",
    "                        eff[k].append(1.0)\n",
    "                    else:\n",
    "                        eff[k].append(1.0)\n",
    "                eff[k] = np.array(eff[k])\n",
    "            else:\n",
    "                eff[k] = []\n",
    "                for th in thre:\n",
    "#                     if 'MinDeltaR' in name[i]:\n",
    "#                         eff[k].append(1.0*np.count_nonzero(v>th)/len(v))\n",
    "#                     elif 'Time' in name[i]:\n",
    "#                         eff[k].append(1.0*np.count_nonzero(v>th)/len(v))\n",
    "#                     else:\n",
    "#                         eff[k].append(1.0*np.count_nonzero(v<th)/len(v))\n",
    "             \n",
    "                    if 'MinDeltaR' in name[i]:\n",
    "                        eff[k].append(1.0*np.sum(np.array(trg_flat_w[k])[v>th])/np.sum(trg_flat_w[k]))\n",
    "                    elif 'Time' in name[i]:\n",
    "                        eff[k].append(1.0*np.sum(np.array(trg_flat_w[k])[v>th])/np.sum(trg_flat_w[k]))\n",
    "                    else:\n",
    "                        eff[k].append(1.0*np.sum(np.array(trg_flat_w[k])[v<th])/np.sum(trg_flat_w[k]))\n",
    "                eff[k] = np.array(eff[k])\n",
    "    #     Plotting ROC curve\n",
    "        gr[name[i]] = create_TGraph(eff[qcd_key],eff[sig_k],axis_title = ['#epsilon_{bkg}','#epsilon_{signal}'])\n",
    "        print(len(eff[qcd_key]))\n",
    "        print(eff[qcd_key][:10])\n",
    "        print(min(eff[qcd_key]))\n",
    "        print(max(eff[qcd_key]))\n",
    "        print(min(eff[qcd_key]))\n",
    "        print(eff[sig_k][:10])\n",
    "        print(min(eff[sig_k]))\n",
    "        print(max(eff[sig_k]))\n",
    "        gr[name[i]].SetLineColor(std_color_list[i])\n",
    "        gr[name[i]].SetLineWidth(2)\n",
    "        gr[name[i]].GetYaxis().SetRangeUser(0.0, 1.0)\n",
    "        gr[name[i]].GetXaxis().SetLimits(0.0, 1.0)\n",
    "\n",
    "        leg.AddEntry(gr[name[i]],axis[i][0])\n",
    "\n",
    "        gr[name[i]].Draw('ac' if i==0 else 'c')\n",
    "\n",
    "    leg.SetHeader('Signal jet matched, pt > ' +str(pt_cut) + ' GeV, BKG ZNuNu')\n",
    "\n",
    "    leg.Draw()\n",
    "    c.SetLogx()\n",
    "    c.Draw()\n",
    "    c.SaveAs(out_dir+'ROC_ZNuNu.png')"
   ]
  }
 ],
 "metadata": {
  "kernelspec": {
   "display_name": "Python 3",
   "language": "python",
   "name": "python3"
  },
  "language_info": {
   "codemirror_mode": {
    "name": "ipython",
    "version": 3
   },
   "file_extension": ".py",
   "mimetype": "text/x-python",
   "name": "python",
   "nbconvert_exporter": "python",
   "pygments_lexer": "ipython3",
   "version": "3.6.8"
  }
 },
 "nbformat": 4,
 "nbformat_minor": 4
}
