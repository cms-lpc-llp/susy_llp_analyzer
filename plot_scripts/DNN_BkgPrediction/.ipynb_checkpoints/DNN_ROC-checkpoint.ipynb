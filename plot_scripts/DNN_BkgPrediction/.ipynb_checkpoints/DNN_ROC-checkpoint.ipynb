{
 "cells": [
  {
   "cell_type": "code",
   "execution_count": 1,
   "metadata": {},
   "outputs": [
    {
     "name": "stdout",
     "output_type": "stream",
     "text": [
      "Welcome to JupyROOT 6.22/02\n",
      "3.6.8 (default, Apr  2 2020, 13:34:55) \n",
      "[GCC 4.8.5 20150623 (Red Hat 4.8.5-39)]\n"
     ]
    }
   ],
   "source": [
    "import ROOT as rt\n",
    "import csv\n",
    "import re\n",
    "import sys\n",
    "import collections\n",
    "from collections import OrderedDict\n",
    "import uproot\n",
    "import numpy as np\n",
    "import time\n",
    "import numba\n",
    "from numba import jit\n",
    "from matplotlib import pyplot as plt\n",
    "from numpy import linalg as LA\n",
    "from ROOT import TLorentzVector\n",
    "from array import array\n",
    "# import PyTEX\n",
    "import os\n",
    "\n",
    "import math\n",
    "import random\n",
    "from optparse import OptionParser\n",
    "\n",
    "sys.path.append('/storage/user/jmao/gpu/jmao/cms-llp/delayed_jet_analyzer/lib/')\n",
    "\n",
    "from histo_utilities import create_TH1D, create_TH2D, create_TGraph,std_color_list, make_ratio_plot\n",
    "\n",
    "import CMS_lumi, tdrstyle \n",
    "tdrstyle.setTDRStyle()\n",
    "CMS_lumi.writeExtraText = 1\n",
    "CMS_lumi.extraText = \"     Simulation Preliminary\"\n",
    "\n",
    "     \n",
    "print(sys.version)\n",
    "\n",
    "from sklearn.model_selection import train_test_split\n",
    "from sklearn.metrics import accuracy_score, roc_curve, roc_auc_score\n",
    "import pandas as pd\n",
    "import pickle as pickle\n",
    "import shlex\n",
    "import uproot\n",
    "import seaborn as sns\n",
    "\n",
    "from scipy.spatial.distance import cdist\n",
    "from collections import Counter \n",
    "import datetime\n",
    "import pytz\n",
    "\n",
    "from prettytable import PrettyTable\n",
    "from pyjet import cluster\n",
    "\n",
    "import xgboost as xgb\n",
    "os.environ['KMP_DUPLICATE_LIB_OK']='True'\n",
    "from xgboost import XGBClassifier\n"
   ]
  },
  {
   "cell_type": "code",
   "execution_count": 2,
   "metadata": {},
   "outputs": [
    {
     "data": {
      "text/plain": [
       "0"
      ]
     },
     "execution_count": 2,
     "metadata": {},
     "output_type": "execute_result"
    }
   ],
   "source": [
    "# root settings\n",
    "rt.gROOT.SetBatch(True)\n",
    "rt.gStyle.SetOptStat(0)\n",
    "rt.gStyle.SetOptFit(111)\n",
    "rt.gStyle.SetPaintTextFormat(\"2.1f\")\n",
    "\n",
    "# plt.rcParams[\"font.family\"] = \"Arial\"\n",
    "plt.rcParams[\"axes.unicode_minus\"] = False\n",
    "plt.rcParams[\"text.usetex\"] = False\n",
    "plt.rcParams[\"mathtext.fontset\"] = \"cm\"\n",
    "\n",
    "# test_name = 'xgb_HH_vs_QCD_ebBDT'\n",
    "\n",
    "lumi_sf_sig = 137.0 # scale lumi from sample to full run2\n",
    "lumi_sf_bkg = 137.0\n",
    "\n",
    "#output dir\n",
    " \n",
    " \n",
    "plotDir = '/storage/user/jmao/gpu/jmao/cms-llp/plots/20201105/2018/MC/'\n",
    "\n",
    "os.system(\"mkdir -p \"+ plotDir)"
   ]
  },
  {
   "cell_type": "code",
   "execution_count": 3,
   "metadata": {},
   "outputs": [
    {
     "name": "stdout",
     "output_type": "stream",
     "text": [
      "/mnt/hadoop/store/group/phys_exotica/delayedjets/displacedJetTimingAnalyzer/V1p17/v21/MC_Fall18/normalized/QCD_HT50toInf_TuneCP5_13TeV-madgraphMLM-pythia8_1pb_weighted.root\n",
      "Open ready\n",
      "QCD_HT_all, background\n",
      "Tree ready\n",
      "<TTree b'SusyLLPTree' at 0x7f52069c0a90> OrderedDict([('QCD_HT_all, background', <TTree b'SusyLLPTree' at 0x7f52069c0a90>)])\n",
      "[[0.7669634 0.20207775 0.43565893] [0.46638054 0.5628715 0.45306987] [0.15278754 0.19139253 0.048275176 0.32285976] ... [0.45758396 0.412498 0.79848224] [0.4288897 0.695793 0.50883764 0.58524495] [0.6451856 0.39628756]]\n",
      "[7.728504e-05 7.728504e-05 7.728504e-05 7.728504e-05 7.728504e-05\n",
      " 7.728504e-05 7.728504e-05 7.728504e-05 7.728504e-05 7.728504e-05]\n",
      "[4.5416487e-06 1.0818414e-05 7.7285040e-05 1.4184350e-04 6.3110027e-03\n",
      " 3.1532127e-02]\n"
     ]
    }
   ],
   "source": [
    "tags = []\n",
    "tags = [\n",
    "    \n",
    "        'QCD_HT_all, background',\n",
    "#         'WLNu_HT_all, background',\n",
    "#         'ZNunu_HT_all, background',\n",
    "#         'TT_Lep, background',\n",
    "\n",
    "        ]\n",
    "\n",
    "\n",
    "# directory\n",
    "home_dir = '/mnt/hadoop/store/group/phys_exotica/delayedjets/displacedJetTimingAnalyzer/'\n",
    "# file names\n",
    "\n",
    "fnames = {}\n",
    "\n",
    " \n",
    "fnames['QCD_HT_all, background'] = 'V1p17/v21/MC_Fall18/normalized/QCD_HT50toInf_TuneCP5_13TeV-madgraphMLM-pythia8_1pb_weighted.root'\n",
    "fnames['WLNu_HT_all, background'] = 'V1p17/v21/MC_Fall18/normalized/WJetsToLNu_HT-70ToInf_TuneCP5_13TeV-madgraphMLM-pythia8_1pb_weighted.root'\n",
    "fnames['ZNunu_HT_all, background'] = 'V1p17/v21/MC_Fall18/normalized/ZJetsToNuNu_HT-100ToInf_13TeV-madgraph_1pb_weighted.root'\n",
    "fnames['TT_Lep, background'] = 'V1p17/v21/MC_Fall18/normalized/TTJets_TuneCP5_13TeV-madgraphMLM-pythia8_1pb_weighted.root'\n",
    "\n",
    "\n",
    "# get all the trees\n",
    "tree = OrderedDict()\n",
    "\n",
    "for tag in tags:\n",
    "    print(home_dir+fnames[tag])\n",
    "\n",
    "    root_dir = uproot.open(home_dir+fnames[tag])\n",
    "    tree[tag] = root_dir['SusyLLPTree']\n",
    "\n",
    "    print ('Open ready')\n",
    "    print(tag)\n",
    "    print ('Tree ready')\n",
    "    print(tree[tag], tree)\n",
    "    v = tree[tag]\n",
    "    jet_amax = v['jetGammaMax_ET'].array()\n",
    "    print(jet_amax[:10])\n",
    "    jet_amax = v['weight'].array()\n",
    "    print(jet_amax[:10])\n",
    "    print(np.unique(jet_amax))\n",
    "     \n"
   ]
  },
  {
   "cell_type": "code",
   "execution_count": 4,
   "metadata": {},
   "outputs": [
    {
     "name": "stdout",
     "output_type": "stream",
     "text": [
      "ReadStreamerInfo, class:string, illegal uid=-2\n"
     ]
    }
   ],
   "source": [
    "# signal and bkg file normalized\n",
    "dataDir = '/mnt/hadoop/store/group/phys_exotica/delayedjets/displacedJetTimingAnalyzer/V1p17/v21/MC_Fall18/normalized/'\n",
    "#sig \n",
    "signalFileName = dataDir + 'n3n2-n1-hbb-hbb_mh200_pl1000_ev100000_1pb_weighted.root'\n",
    "signalFile = rt.TFile(signalFileName)\n",
    "# signalTree = signalFile.Get('BDT_Tree')\n",
    "signalTree = signalFile.Get('SusyLLPTree')\n",
    "signalEvents = lumi_sf_sig*signalTree.GetEntries()\n",
    "\n",
    "#bkg\n",
    " \n",
    "bkgFileName    = dataDir + 'QCD_HT50toInf_TuneCP5_13TeV-madgraphMLM-pythia8_1pb_weighted.root'\n",
    "bkgFile = rt.TFile(bkgFileName)\n",
    "# bkgTree = bkgFile.Get('BDT_Tree')\n",
    "bkgTree = bkgFile.Get('SusyLLPTree')\n",
    "bkgEvents = lumi_sf_bkg*bkgTree.GetEntries()"
   ]
  },
  {
   "cell_type": "code",
   "execution_count": 5,
   "metadata": {},
   "outputs": [],
   "source": [
    "variables = [\n",
    " \n",
    "        ['jetTime', 'jetTime', 'jetTime', 50, -10, 20],\n",
    "        ['jetDNNScore', 'jetDNNScore', 'jetDNNScore', 50, 0, 1],\n",
    "        \n",
    "            ]"
   ]
  },
  {
   "cell_type": "code",
   "execution_count": 10,
   "metadata": {},
   "outputs": [],
   "source": [
    "variablesX = [\n",
    " \n",
    "        ['jetTime', 'jetTime', 'jetTime', 50, -10, 20],\n",
    "#         ['jetDNNScore', 'jetDNNScore', 'jetDNNScore', 50, 0, 1],\n",
    "        \n",
    "            ]"
   ]
  },
  {
   "cell_type": "code",
   "execution_count": 11,
   "metadata": {},
   "outputs": [],
   "source": [
    "variablesY = [\n",
    " \n",
    "#         ['jetTime', 'jetTime', 'jetTime', 50, -10, 20],\n",
    "        ['jetDNNScore', 'jetDNNScore', 'jetDNNScore', 50, 0, 1],\n",
    "        \n",
    "            ]"
   ]
  },
  {
   "cell_type": "code",
   "execution_count": 12,
   "metadata": {},
   "outputs": [],
   "source": [
    "##Getting ROOT files into pandas\n",
    "df_signalX = uproot.open(signalFileName)['SusyLLPTree'].pandas.df([row[0] for row in variablesX], flatten=True)\n",
    "df_signalY = uproot.open(signalFileName)['SusyLLPTree'].pandas.df([row[0] for row in variablesY], flatten=True)\n",
    "df_bkgX = uproot.open(bkgFileName)['SusyLLPTree'].pandas.df([row[0] for row in variablesX], flatten=True)\n",
    "df_bkgY = uproot.open(bkgFileName)['SusyLLPTree'].pandas.df([row[0] for row in variablesY], flatten=True)\n",
    "# df_signal = uproot.open(signalFileName)['SusyLLPTree'].pandas.df([row[0] for row in variables], flatten=True)\n",
    "# df_bkg = uproot.open(bkgFileName)['SusyLLPTree'].pandas.df([row[0] for row in variables], flatten=True)\n",
    "# df_signal = uproot.open(signalFileName)['BDT_Tree'].pandas.df([row[0] for row in variables], flatten=True)\n",
    "# df_bkg = uproot.open(bkgFileName)['BDT_Tree'].pandas.df([row[0] for row in variables], flatten=True)\n"
   ]
  },
  {
   "cell_type": "code",
   "execution_count": 7,
   "metadata": {},
   "outputs": [],
   "source": [
    "#weight\n",
    "#sig\n",
    "sig_root_dir = uproot.open(signalFileName) \n",
    "# sig_tree = sig_root_dir['BDT_Tree']\n",
    "sig_tree = sig_root_dir['SusyLLPTree']\n",
    "# #branches\n",
    "sig_w = sig_tree['weight'].array() \n",
    "sig_jet_pt = sig_tree['jetPt'].array()\n",
    "# sig_w = sig_tree['weight_'].array() \n",
    "# sig_jet_pt = sig_tree['jetPt_'].array()\n",
    "from itertools import chain \n",
    "sig_flat_w = [np.array([x]*len(y)) for x,y in zip(sig_w,sig_jet_pt)]\n",
    "sig_flat_w = list(chain.from_iterable(sig_flat_w))\n",
    "sig_flat_w = [x*137000 for x in sig_flat_w]\n",
    "# sig_w = sig_tree['flat_w'].array().flatten()\n",
    "# bkg\n",
    "bkg_root_dir = uproot.open(bkgFileName) \n",
    "# bkg_tree = bkg_root_dir['BDT_Tree']\n",
    "bkg_tree = bkg_root_dir['SusyLLPTree']\n",
    "# #branches\n",
    "bkg_w = bkg_tree['weight'].array() \n",
    "bkg_jet_pt = bkg_tree['jetPt'].array()\n",
    "# bkg_w = bkg_tree['weight_'].array() \n",
    "# bkg_jet_pt = bkg_tree['jetPt_'].array()\n",
    "bkg_flat_w = [np.array([x]*len(y)) for x,y in zip(bkg_w,bkg_jet_pt)]\n",
    "bkg_flat_w = list(chain.from_iterable(bkg_flat_w)) \n",
    "bkg_flat_w = [x*137000 for x in bkg_flat_w]\n",
    "# bkg_w = bkg_tree['flat_w'].array().flatten()\n",
    "# sample weight\n",
    "# sample_w = np.concatenate([sig_flat_w,bkg_flat_w])"
   ]
  },
  {
   "cell_type": "code",
   "execution_count": 28,
   "metadata": {},
   "outputs": [
    {
     "name": "stdout",
     "output_type": "stream",
     "text": [
      "1.1042597825507983\n",
      "()\n",
      "6994\n",
      "3502\n",
      "3502\n",
      "6994\n"
     ]
    }
   ],
   "source": [
    "sample_w = np.concatenate([bkg_flat_w,sig_flat_w])\n",
    "# sample_w = np.concatenate([sig_w,bkg_w])\n",
    "print(sig_flat_w[0])\n",
    "print(())\n",
    "print(len(sig_flat_w))\n",
    "print(len(sig_w))\n",
    "print(len(sig_jet_pt))\n",
    "print(len(sig_jet_pt.flatten()))"
   ]
  },
  {
   "cell_type": "code",
   "execution_count": 13,
   "metadata": {},
   "outputs": [],
   "source": [
    "## change nan to -999\n",
    "df_signalX = df_signalX.fillna(-999)\n",
    "df_signalY = df_signalY.fillna(-999)\n",
    "df_bkgX = df_bkgX.fillna(-999)\n",
    "df_bkgY = df_bkgY.fillna(-999)\n",
    "# df_signal = df_signal.fillna(-999)\n",
    "# df_bkg = df_bkg.fillna(-999)\n"
   ]
  },
  {
   "cell_type": "code",
   "execution_count": 17,
   "metadata": {},
   "outputs": [],
   "source": [
    "##Getting a numpy array out of two pandas data frame\n",
    "\n",
    "x = np.concatenate([df_bkgX.values,df_signalX.values])\n",
    "y = np.concatenate([df_bkgY.values,df_signalY.values])\n",
    "y_true = np.concatenate([np.zeros(len(df_bkg)),\n",
    "np.ones(len(df_signal))])\n",
    "\n",
    "#getting a numpy array from two pandas data frames\n",
    "# x = np.concatenate([df_bkg.values,df_signal.values])\n",
    "#creating numpy array for target variables\n",
    "# y = np.concatenate([np.zeros(len(df_bkg)),\n",
    "# np.ones(len(df_signal))])"
   ]
  },
  {
   "cell_type": "code",
   "execution_count": 15,
   "metadata": {},
   "outputs": [],
   "source": [
    "# split data into train and test sets\n",
    "# seed = 7\n",
    "# test_size = 0.4\n",
    "# sample_size = 1.0\n",
    "# x_train, x_test, y_train, y_test, w_train, w_test = train_test_split(x, y, sample_w, train_size = sample_size*(1-test_size), test_size=sample_size*test_size, random_state=seed)"
   ]
  },
  {
   "cell_type": "code",
   "execution_count": 29,
   "metadata": {},
   "outputs": [],
   "source": [
    "#ROC \n",
    "# print(y[:])\n",
    "# fpr, tpr, thr = roc_curve(y_true, y)\n",
    "fpr, tpr, thr = roc_curve(y_true, y, sample_weight=sample_w)\n"
   ]
  },
  {
   "cell_type": "code",
   "execution_count": 21,
   "metadata": {},
   "outputs": [],
   "source": [
    "AUC = roc_auc_score(y_true, y)"
   ]
  },
  {
   "cell_type": "code",
   "execution_count": 27,
   "metadata": {},
   "outputs": [
    {
     "data": {
      "text/plain": [
       "Text(1.0, 1.01, '13 TeV')"
      ]
     },
     "execution_count": 27,
     "metadata": {},
     "output_type": "execute_result"
    },
    {
     "data": {
      "image/png": "[encoded data removed]",
      "text/plain": [
       "<Figure size 432x288 with 1 Axes>"
      ]
     },
     "metadata": {
      "needs_background": "light"
     },
     "output_type": "display_data"
    }
   ],
   "source": [
    "#plot roc curve\n",
    "f = plt.figure()\n",
    "ax = f.add_subplot(111)\n",
    "plt.subplots_adjust(top=0.9, bottom=0.15, left=0.15, right=0.95)\n",
    "lw = 2\n",
    "plt.plot(fpr, tpr, color='darkorange',\n",
    "         lw=lw, label='ROC curve')\n",
    "plt.plot([0, 1], [0, 1], color='navy', lw=lw, linestyle='--')\n",
    "plt.xscale('log')\n",
    "plt.xlim([0.0001, 1.0])\n",
    "plt.ylim([0.0, 1.05])\n",
    "plt.ylabel('Signal Efficiency',horizontalalignment='right', y=1.0, fontsize=15)\n",
    "plt.xlabel('Background Efficiency',horizontalalignment='right', x=1.0, fontsize=15)\n",
    "plt.xticks(fontsize=13)\n",
    "plt.yticks(fontsize=13) \n",
    "# plt.text(0.02,0.31,'AUC = %.4f'%AUC, fontsize=12)\n",
    "# plt.axhline(y=0.9, color=\"black\", linestyle='--')\n",
    "# plt.axvline(x=0.2, color=\"black\", linestyle='--')\n",
    "# plt.scatter(0.00045, 0.21271, marker='o')\n",
    "plt.axhline(y=0.2, color=\"black\", linestyle='--')\n",
    "#plt.show()\n",
    "plt.text(0.0, 1.01, \"CMS\", ha='left', va='bottom', transform=ax.transAxes, weight='bold', fontsize=17)\n",
    "plt.text(0.12, 1.01, \"Simulation Preliminary\", ha='left', va='bottom', transform=ax.transAxes, style='italic', fontsize=16)\n",
    "plt.text(1.0, 1.01, \"13 TeV\", ha='right', va='bottom', transform=ax.transAxes, fontsize=16)\n",
    "# plt.savefig(plotDir+'training/myroc_' + test_name + '.png')\n",
    "# os.system(\"chmod 755 \"+plotDir+\"training/*\")"
   ]
  },
  {
   "cell_type": "code",
   "execution_count": 30,
   "metadata": {},
   "outputs": [
    {
     "data": {
      "text/plain": [
       "Text(1.0, 1.01, '13 TeV')"
      ]
     },
     "execution_count": 30,
     "metadata": {},
     "output_type": "execute_result"
    },
    {
     "data": {
      "image/png": "[encoded data removed]",
      "text/plain": [
       "<Figure size 432x288 with 1 Axes>"
      ]
     },
     "metadata": {
      "needs_background": "light"
     },
     "output_type": "display_data"
    }
   ],
   "source": [
    "#plot roc curve\n",
    "f = plt.figure()\n",
    "ax = f.add_subplot(111)\n",
    "plt.subplots_adjust(top=0.9, bottom=0.15, left=0.15, right=0.95)\n",
    "lw = 2\n",
    "plt.plot(fpr, tpr, color='darkorange',\n",
    "         lw=lw, label='ROC curve')\n",
    "plt.plot([0, 1], [0, 1], color='navy', lw=lw, linestyle='--')\n",
    "plt.xscale('log')\n",
    "plt.xlim([0.0001, 1.0])\n",
    "plt.ylim([0.0, 1.05])\n",
    "plt.ylabel('Signal Efficiency',horizontalalignment='right', y=1.0, fontsize=15)\n",
    "plt.xlabel('Background Efficiency',horizontalalignment='right', x=1.0, fontsize=15)\n",
    "plt.xticks(fontsize=13)\n",
    "plt.yticks(fontsize=13) \n",
    "# plt.text(0.02,0.31,'AUC = %.4f'%AUC, fontsize=12)\n",
    "# plt.axhline(y=0.9, color=\"black\", linestyle='--')\n",
    "# plt.axvline(x=0.2, color=\"black\", linestyle='--')\n",
    "# plt.scatter(0.00045, 0.21271, marker='o')\n",
    "plt.axhline(y=0.2, color=\"black\", linestyle='--')\n",
    "#plt.show()\n",
    "plt.text(0.0, 1.01, \"CMS\", ha='left', va='bottom', transform=ax.transAxes, weight='bold', fontsize=17)\n",
    "plt.text(0.12, 1.01, \"Simulation Preliminary\", ha='left', va='bottom', transform=ax.transAxes, style='italic', fontsize=16)\n",
    "plt.text(1.0, 1.01, \"13 TeV\", ha='right', va='bottom', transform=ax.transAxes, fontsize=16)\n",
    "# plt.savefig(plotDir+'training/myroc_' + test_name + '.png')\n",
    "# os.system(\"chmod 755 \"+plotDir+\"training/*\")"
   ]
  },
  {
   "cell_type": "code",
   "execution_count": null,
   "metadata": {},
   "outputs": [],
   "source": []
  }
 ],
 "metadata": {
  "kernelspec": {
   "display_name": "Python 3",
   "language": "python",
   "name": "python3"
  },
  "language_info": {
   "codemirror_mode": {
    "name": "ipython",
    "version": 3
   },
   "file_extension": ".py",
   "mimetype": "text/x-python",
   "name": "python",
   "nbconvert_exporter": "python",
   "pygments_lexer": "ipython3",
   "version": "3.6.8"
  }
 },
 "nbformat": 4,
 "nbformat_minor": 4
}
