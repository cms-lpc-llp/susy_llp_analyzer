{
 "cells": [
  {
   "cell_type": "markdown",
   "metadata": {},
   "source": [
    "# Imports "
   ]
  },
  {
   "cell_type": "code",
   "execution_count": 1,
   "metadata": {},
   "outputs": [
    {
     "name": "stdout",
     "output_type": "stream",
     "text": [
      "Welcome to JupyROOT 6.18/02\n",
      "3.6.8 (default, Aug  7 2019, 17:28:10) \n",
      "[GCC 4.8.5 20150623 (Red Hat 4.8.5-39)]\n"
     ]
    }
   ],
   "source": [
    "import ROOT as rt\n",
    "import csv\n",
    "import re\n",
    "import sys\n",
    "import collections\n",
    "from collections import OrderedDict\n",
    "import uproot\n",
    "import numpy as np\n",
    "import time\n",
    "import numba\n",
    "from numba import jit\n",
    "from matplotlib import pyplot as plt\n",
    "from numpy import linalg as LA\n",
    "from ROOT import TLorentzVector\n",
    "from array import array\n",
    "# import PyTEX\n",
    "import os\n",
    "\n",
    "import math\n",
    "import random\n",
    "from optparse import OptionParser\n",
    "\n",
    "sys.path.append('/storage/user/jmao/gpu/jmao/cms-llp/delayed_jet_analyzer/lib/')\n",
    "\n",
    "from histo_utilities import create_TH1D, create_TH2D, create_TGraph,std_color_list, make_ratio_plot\n",
    "\n",
    "import CMS_lumi, tdrstyle \n",
    "tdrstyle.setTDRStyle()\n",
    "CMS_lumi.writeExtraText = 1\n",
    "CMS_lumi.extraText = \"     Simulation Preliminary\"\n",
    "\n",
    "     \n",
    "print(sys.version)\n",
    "\n",
    "from sklearn.model_selection import train_test_split\n",
    "from sklearn.metrics import accuracy_score, roc_curve, roc_auc_score\n",
    "import pandas as pd\n",
    "import pickle as pickle\n",
    "import shlex\n",
    "import uproot\n",
    "import seaborn as sns\n",
    "\n",
    "from scipy.spatial.distance import cdist\n",
    "from collections import Counter \n",
    "import datetime\n",
    "import pytz\n",
    "\n",
    "from prettytable import PrettyTable\n",
    "from pyjet import cluster\n",
    "\n",
    "import xgboost as xgb\n",
    "os.environ['KMP_DUPLICATE_LIB_OK']='True'\n",
    "from xgboost import XGBClassifier\n"
   ]
  },
  {
   "cell_type": "code",
   "execution_count": 2,
   "metadata": {},
   "outputs": [
    {
     "data": {
      "text/plain": [
       "0"
      ]
     },
     "execution_count": 2,
     "metadata": {},
     "output_type": "execute_result"
    }
   ],
   "source": [
    "# root settings\n",
    "rt.gROOT.SetBatch(True)\n",
    "rt.gStyle.SetOptStat(0)\n",
    "rt.gStyle.SetOptFit(111)\n",
    "rt.gStyle.SetPaintTextFormat(\"2.1f\")\n",
    "\n",
    "# plt.rcParams[\"font.family\"] = \"Arial\"\n",
    "plt.rcParams[\"axes.unicode_minus\"] = False\n",
    "plt.rcParams[\"text.usetex\"] = False\n",
    "plt.rcParams[\"mathtext.fontset\"] = \"cm\"\n",
    "\n",
    "# test_name = 'xgb_HH_vs_QCD_ebBDT'\n",
    "\n",
    "lumi_sf_sig = 137.0 # scale lumi from sample to full run2\n",
    "lumi_sf_bkg = 137.0\n",
    "\n",
    "#output dir\n",
    " \n",
    "version = 'v1/'\n",
    "plotDir = '/storage/user/jmao/gpu/jmao/cms-llp/plots/20200820/DataCards/'+version\n",
    "\n",
    "\n",
    "os.system(\"mkdir -p \"+ plotDir)"
   ]
  },
  {
   "cell_type": "markdown",
   "metadata": {},
   "source": [
    "# Loading"
   ]
  },
  {
   "cell_type": "code",
   "execution_count": 3,
   "metadata": {},
   "outputs": [],
   "source": [
    "data_home_dir = '/storage/user/jmao/gpu/jmao/cms-llp/plots/20200804/'\n",
    "sig_home_dir = '/storage/user/jmao/gpu/jmao/cms-llp/plots/20200820/'\n",
    "# SignalInput = 'CTAUSignalSummaryTableBin2Rebin.txt'\n",
    "OLDSignalInput = 'SignalSummaryTableBin2Rebin.txt' \n",
    "DataInput = 'PredictionSummaryTableBin2Rebin.txt'"
   ]
  },
  {
   "cell_type": "code",
   "execution_count": 4,
   "metadata": {},
   "outputs": [],
   "source": [
    "\n",
    "years = []\n",
    "years = [\n",
    "            '2016',\n",
    "            '2017',\n",
    "            '2018',\n",
    "]\n",
    "\n",
    "data_bin2 = {}\n",
    "data_bin2err = {}\n",
    "\n",
    "data_f=open(data_home_dir+DataInput, 'r')\n",
    "for data_l in data_f:\n",
    "    \n",
    "    if 'Data' in data_l:\n",
    "        data_ws = data_l.split('|')\n",
    "        \n",
    " \n",
    "        \n",
    "        year = data_ws[1].split(' ')[2]\n",
    "        bin2 = float(data_ws[3].lstrip(' ').rstrip(' '))\n",
    "        bin2err = float(data_ws[4].lstrip(' ').rstrip(' '))\n",
    "        \n",
    " \n",
    "        \n",
    "        data_bin2[year] = bin2\n",
    "        data_bin2err[year] = bin2err\n",
    "        \n",
    "data_f.close()\n",
    "\n"
   ]
  },
  {
   "cell_type": "code",
   "execution_count": 5,
   "metadata": {},
   "outputs": [
    {
     "name": "stdout",
     "output_type": "stream",
     "text": [
      "+-----------+--------+------------------+------------------------+---------------------------+----------------------------+\n",
      "|   Sample  | method | Bin 2 Prediction | Bin 2 Prediction Error | Bin 2 Prediction Error Up | Bin 2 Prediction Error Low |\n",
      "+-----------+--------+------------------+------------------------+---------------------------+----------------------------+\n",
      "| Data 2018 | 1D pt  |       0.58       |          0.26          |            0.35           |            0.18            |\n",
      "| Data 2017 | 1D pt  |       0.88       |          0.45          |            0.61           |            0.29            |\n",
      "| Data 2016 | 1D pt  |       1.47       |          0.58          |            0.74           |            0.41            |\n",
      "+-----------+--------+------------------+------------------------+---------------------------+----------------------------+\n",
      "2016 1.47 0.58\n",
      "2017 0.88 0.45\n",
      "2018 0.58 0.26\n",
      "Data sum 2.93\n",
      "Data sum err 0.78\n"
     ]
    }
   ],
   "source": [
    "data_f=open(data_home_dir+DataInput, 'r')\n",
    "print(data_f.read())\n",
    "data_f.close()\n",
    "\n",
    "data_bin2_sum = 0\n",
    "data_bin2_sum_err_tmp = 0\n",
    "for year in years:\n",
    "    print(year, data_bin2[year], data_bin2err[year])\n",
    "    data_bin2_sum += data_bin2[year]\n",
    "    data_bin2_sum_err_tmp += pow(data_bin2err[year],2)\n",
    "\n",
    "data_bin2_sum_err = round(math.sqrt(data_bin2_sum_err_tmp),2)\n",
    "\n",
    "print('Data sum',data_bin2_sum)\n",
    "print('Data sum err',data_bin2_sum_err)\n"
   ]
  },
  {
   "cell_type": "code",
   "execution_count": null,
   "metadata": {},
   "outputs": [],
   "source": []
  },
  {
   "cell_type": "code",
   "execution_count": null,
   "metadata": {},
   "outputs": [],
   "source": [
    " "
   ]
  },
  {
   "cell_type": "code",
   "execution_count": 6,
   "metadata": {},
   "outputs": [],
   "source": [
    "sig0_f=open(sig_home_dir+OLDSignalInput, 'r')\n",
    "\n",
    "sig_bin2 = {}\n",
    "sig_bin2err = {}\n",
    "sig_bin2_arr = []\n",
    "sig_bin2err_arr = []\n",
    "\n",
    "for sig_l in sig0_f:\n",
    "    \n",
    "    sig_ws = sig_l.split('|')\n",
    "\n",
    "    if \".\" in sig_l:\n",
    "#         print('sample year',sig_ws[1].lstrip(' ').rstrip(' '))\n",
    "#         print('sample year', len(sig_ws[1].lstrip(' ').rstrip(' ')))\n",
    "#         print('bin 2 prediction ' , sig_ws[3].lstrip(' ').rstrip(' '))\n",
    "#         print('bin 2 prediction ' , len(sig_ws[3].lstrip(' ').rstrip(' ')))\n",
    "#         print('bin 2 error ', sig_ws[4].lstrip(' ').rstrip(' '))\n",
    "#         print('bin 2 error ', len(sig_ws[4].lstrip(' ').rstrip(' ')))\n",
    "\n",
    " \n",
    "    \n",
    "        mass = sig_ws[1].lstrip(' ').rstrip(' ')\n",
    "        bin2 = float(sig_ws[3].lstrip(' ').rstrip(' '))\n",
    "        bin2err = float(sig_ws[4].lstrip(' ').rstrip(' '))\n",
    "\n",
    "        sig_bin2[mass] = bin2\n",
    "        sig_bin2err[mass] = bin2err\n",
    "        \n",
    "        sig_bin2_arr.append(bin2)\n",
    "        sig_bin2err_arr.append(bin2err)\n",
    "\n",
    "\n",
    "sig0_f.close()"
   ]
  },
  {
   "cell_type": "code",
   "execution_count": 7,
   "metadata": {},
   "outputs": [
    {
     "name": "stdout",
     "output_type": "stream",
     "text": [
      "+--------+-----------------+-------------+-------------+\n",
      "| Sample |      Weight     | Bin 2 Yield | Bin 2 Error |\n",
      "+--------+-----------------+-------------+-------------+\n",
      "|  127   | [5.6951445e-05] |    437.61   |    20.92    |\n",
      "|  150   | [2.1877613e-05] |    204.99   |    14.32    |\n",
      "|  175   | [1.5398517e-05] |    189.27   |    13.76    |\n",
      "|  200   |  [8.116029e-06] |    153.08   |    12.37    |\n",
      "|  250   | [5.1101733e-06] |    186.64   |    13.66    |\n",
      "|  300   | [1.8683509e-06] |    153.39   |    12.38    |\n",
      "|  400   |  [6.086827e-07] |    115.9    |    10.77    |\n",
      "+--------+-----------------+-------------+-------------+\n",
      "------------SUM----------\n",
      "mass[GeV],  sig_sum, err\n",
      "127 437.61 20.92\n",
      "150 204.99 14.32\n",
      "175 189.27 13.76\n",
      "200 153.08 12.37\n",
      "250 186.64 13.66\n",
      "300 153.39 12.38\n",
      "400 115.9 10.77\n"
     ]
    }
   ],
   "source": [
    " \n",
    "\n",
    "sig0_f=open(sig_home_dir+OLDSignalInput, 'r')\n",
    "print(sig0_f.read())\n",
    "sig0_f.close()\n",
    "\n",
    "masses = np.array([127, 150, 175, 200, 250, 300, 400])\n",
    "\n",
    "print('------------SUM----------')   \n",
    "print('mass[GeV],  sig_sum, err')   \n",
    "for mass in masses:\n",
    "    print(mass, sig_bin2[str(mass)] , sig_bin2err[str(mass)] )\n"
   ]
  },
  {
   "cell_type": "markdown",
   "metadata": {},
   "source": [
    "# Making Datacards"
   ]
  },
  {
   "cell_type": "code",
   "execution_count": 8,
   "metadata": {},
   "outputs": [],
   "source": [
    "def make_datacard(outDataCardsDir,cardName, sig_yield, bkg_yield, sig_unc, sig_stat, bkg_unc, bkg_pred):\n",
    "    text_file = open(outDataCardsDir+cardName, \"w\")\n",
    "    text_file.write('# Simple counting experiment, with one signal and a few background processes \\n')\n",
    "    text_file.write('# Simplified version of the SUSY LLP analysis for mH = 200 GeV \\n')\n",
    "\n",
    "    text_file.write('imax {0} \\n'.format(1))\n",
    "    text_file.write('jmax {0} \\n'.format(1))\n",
    "    text_file.write('kmax * \\n')\n",
    "    text_file.write('--------------- \\n')\n",
    "    text_file.write('--------------- \\n')\n",
    "    text_file.write('bin \\t bin1 \\n')\n",
    "    text_file.write('observation \\t {0:6.2f} \\n'.format(0))\n",
    "    text_file.write('------------------------------ \\n')  \n",
    "    text_file.write('bin \\t bin1 \\t bin1 \\n')\n",
    "    text_file.write('process sig \\t bkg \\n')\n",
    "    text_file.write('process 0 \\t 1 \\n')\n",
    "    text_file.write('rate \\t {0} \\t {1} \\n'.format(sig_yield, bkg_yield))\n",
    "    text_file.write('------------------------------ \\n')  \n",
    " \n",
    "#     #### uncertainties ####\n",
    "    text_file.write('------------------------------ \\n')  \n",
    "    text_file.write('lumi\\t lnN \\t 1.025000 \\t - \\n')\n",
    "    text_file.write('signal_yield \\t lnN  \\t {0:6.6f} \\t - \\n'.format(1+sig_unc))    \n",
    "    text_file.write('signal_stat \\t lnN  \\t {0} \\t - \\n'.format(1+sig_stat))    \n",
    "    text_file.write('bkg_yield \\t lnN  \\t - \\t {0:6.6f} \\n'.format(1+bkg_unc))    \n",
    "    text_file.write('bkg_pred \\t lnN  \\t - \\t {0} \\n'.format(1+bkg_pred))    \n",
    "\n",
    "    \n",
    "    text_file.close()"
   ]
  },
  {
   "cell_type": "markdown",
   "metadata": {},
   "source": [
    "# Simple counting experiment, with one signal and a few background processes \n",
    "# Simplified version of the SUSY LLP analysis for mH = 200 GeV\n",
    "imax 1  number of channels\n",
    "jmax 1  number of backgrounds\n",
    "kmax *  number of nuisance parameters (sources of systematical uncertainties)\n",
    "------------\n",
    "# we have just one channel, in which we observe 0 events\n",
    "bin bin1\n",
    "observation 0\n",
    "------------\n",
    "# now we list the expected events for signal and all backgrounds in that bin\n",
    "# the second 'process' line must have a positive number for backgrounds, and 0 for signal\n",
    "# then we list the independent sources of uncertainties, and give their effect (syst. error)\n",
    "# on each process and bin\n",
    "bin             bin1 bin1  \n",
    "process         sig  bkg\n",
    "process          0     1\n",
    "rate           240  2.93\n",
    "------------\n",
    "lumi    lnN    1.025    -  #   lumi affects signal. lnN = lognormal\n",
    "sig_yield lnN  1.2     -   #   20% uncertainty on signal yields\n",
    "bkg_yield lnN  -      1.5  #   50% uncertainty on bkg yields\n"
   ]
  },
  {
   "cell_type": "code",
   "execution_count": 9,
   "metadata": {},
   "outputs": [
    {
     "name": "stdout",
     "output_type": "stream",
     "text": [
      "Data sum 2.93\n",
      "Data sum err 0.78\n"
     ]
    }
   ],
   "source": [
    "print('Data sum',data_bin2_sum)\n",
    "print('Data sum err',data_bin2_sum_err)\n"
   ]
  },
  {
   "cell_type": "code",
   "execution_count": 10,
   "metadata": {},
   "outputs": [
    {
     "name": "stdout",
     "output_type": "stream",
     "text": [
      "------------SUM----------\n",
      "mass[GeV],  sig_sum, err\n",
      "127 437.61 20.92\n",
      "150 204.99 14.32\n",
      "175 189.27 13.76\n",
      "200 153.08 12.37\n",
      "250 186.64 13.66\n",
      "300 153.39 12.38\n",
      "400 115.9 10.77\n"
     ]
    }
   ],
   "source": [
    " \n",
    "\n",
    "print('------------SUM----------')   \n",
    "print('mass[GeV],  sig_sum, err')   \n",
    "for mass in masses:\n",
    "    print(mass, sig_bin2[str(mass)] , sig_bin2err[str(mass)] )\n"
   ]
  },
  {
   "cell_type": "code",
   "execution_count": null,
   "metadata": {},
   "outputs": [],
   "source": [
    " "
   ]
  },
  {
   "cell_type": "code",
   "execution_count": 11,
   "metadata": {},
   "outputs": [
    {
     "name": "stdout",
     "output_type": "stream",
     "text": [
      "[0. 0. 0. 0. 0. 0. 0.]\n",
      "{'127': 437.61, '150': 204.99, '175': 189.27, '200': 153.08, '250': 186.64, '300': 153.39, '400': 115.9}\n",
      "{'127': 437.61, '150': 204.99, '175': 189.27, '200': 153.08, '250': 186.64, '300': 153.39, '400': 115.9}\n",
      "[437.61, 204.99, 189.27, 153.08, 186.64, 153.39, 115.9]\n",
      "[437.61 204.99 189.27 153.08 186.64 153.39 115.9 ]\n",
      "[20.92 14.32 13.76 12.37 13.66 12.38 10.77]\n",
      "[127 150 175 200 250 300 400]\n"
     ]
    }
   ],
   "source": [
    "npts = len(masses) \n",
    "masses_err = np.zeros(npts)\n",
    "test = np.ones(npts)\n",
    "print(masses_err)\n",
    "lumi=137000\n",
    "print(sig_bin2)\n",
    "print(np.array(sig_bin2))\n",
    "print(sig_bin2_arr)\n",
    "sig_bin2_arr = np.array(sig_bin2_arr)\n",
    "sig_bin2err_arr = np.array(sig_bin2err_arr)\n",
    "print(sig_bin2_arr)\n",
    "print(sig_bin2err_arr)\n",
    "print(masses)\n"
   ]
  },
  {
   "cell_type": "code",
   "execution_count": 12,
   "metadata": {},
   "outputs": [
    {
     "name": "stdout",
     "output_type": "stream",
     "text": [
      "137 fb^{-1} (13 TeV)\n"
     ]
    },
    {
     "name": "stderr",
     "output_type": "stream",
     "text": [
      "Info in <TCanvas::Print>: png file /storage/user/jmao/gpu/jmao/cms-llp/plots/20200820/SignalYields/v1/SignalYield.png has been created\n"
     ]
    },
    {
     "data": {
      "image/png": "[encoded data removed]",
      "text/plain": [
       "<IPython.core.display.Image object>"
      ]
     },
     "metadata": {},
     "output_type": "display_data"
    }
   ],
   "source": [
    "# plot \n",
    "rt.gStyle.SetOptFit(1011)    \n",
    "\n",
    "c = rt.TCanvas('c','c', 800, 800)\n",
    "leg = rt.TLegend(0.5,0.73,0.80,0.92)\n",
    "leg.SetTextSize(0.03)\n",
    "leg.SetBorderSize(0)\n",
    "leg.SetEntrySeparation(0.01)\n",
    "\n",
    "h_sig = rt.TGraphErrors(npts, masses, masses, masses_err, masses_err)\n",
    "# h_sig = rt.TGraphErrors(npts, masses, test , masses_err, sig_bin2err_arr)\n",
    "# h_sig = rt.TGraphErrors(npts, masses, sig_bin2_arr , masses_err, sig_bin2err_arr)\n",
    "\n",
    "\n",
    "h_sig.SetTitle(\" ; Mass [GeV];Signal Yields\");\n",
    "leg.AddEntry(h_sig, \"Signal Yields\", \"PL\")\n",
    "# leg.SetHeader( \"Error x 5\")\n",
    "h_sig.SetLineColor(845)\n",
    "h_sig.SetLineWidth(2)\n",
    "h_sig.SetMarkerColor(845)\n",
    "h_sig.SetMarkerStyle(20)\n",
    "h_sig.SetMarkerSize(0.5)\n",
    "h_sig.GetXaxis().SetLimits(100,500.0)\n",
    "h_sig.GetYaxis().SetRangeUser(0.1,1e+3)\n",
    "h_sig.GetXaxis().SetTitleOffset(1)\n",
    "\n",
    "h_sig.Draw('ALPsame')\n",
    "\n",
    "tdrstyle.setTDRStyle()\n",
    "CMS_lumi.cmsText     = \"CMS\"\n",
    "iPos = 0\n",
    "CMS_lumi.writeExtraText = True\n",
    "CMS_lumi.extraText   = \"Preliminary\"\n",
    "\n",
    "iPos = 0\n",
    "if( iPos==0 ): CMS_lumi.relPosX = 0.12\n",
    "CMS_lumi.CMS_lumi(c, 4, 0)\n",
    "leg.Draw()\n",
    "c.SetRightMargin(0.03)\n",
    "c.SetLogy()\n",
    "# c.SetLogx()\n",
    "\n",
    "c.Draw()\n",
    "#save\n",
    "outDir = '/storage/user/jmao/gpu/jmao/cms-llp/plots/20200820/SignalYields/'+version\n",
    "\n",
    "os.system(\"mkdir -p \"+ outDir)\n",
    "c.SaveAs(outDir+'SignalYield.png')"
   ]
  },
  {
   "cell_type": "code",
   "execution_count": 19,
   "metadata": {},
   "outputs": [
    {
     "name": "stdout",
     "output_type": "stream",
     "text": [
      "/storage/user/jmao/gpu/jmao/cms-llp/plots/20200820/DataCards/v1/ggH_LLP_m127_ctau1m.txt\n",
      "/storage/user/jmao/gpu/jmao/cms-llp/plots/20200820/DataCards/v1/ggH_LLP_m150_ctau1m.txt\n",
      "/storage/user/jmao/gpu/jmao/cms-llp/plots/20200820/DataCards/v1/ggH_LLP_m175_ctau1m.txt\n",
      "/storage/user/jmao/gpu/jmao/cms-llp/plots/20200820/DataCards/v1/ggH_LLP_m200_ctau1m.txt\n",
      "/storage/user/jmao/gpu/jmao/cms-llp/plots/20200820/DataCards/v1/ggH_LLP_m250_ctau1m.txt\n",
      "/storage/user/jmao/gpu/jmao/cms-llp/plots/20200820/DataCards/v1/ggH_LLP_m300_ctau1m.txt\n",
      "/storage/user/jmao/gpu/jmao/cms-llp/plots/20200820/DataCards/v1/ggH_LLP_m400_ctau1m.txt\n"
     ]
    }
   ],
   "source": [
    "for mass in masses:\n",
    "    card_name = 'ggH_LLP_m'+str(mass)+'_ctau1m.txt'\n",
    "    if sig_bin2[str(mass)]  !=0:\n",
    "        sig_unc = sig_bin2err[str(mass)] / sig_bin2[str(mass)]\n",
    "    else:\n",
    "        sig_unc = 0.2\n",
    "    sig_stat = 0.2\n",
    "    bkg_unc = data_bin2_sum_err / data_bin2_sum\n",
    "    bkg_pred = 0.5\n",
    "    sig_yield = sig_bin2[str(mass)] \n",
    "    bkg_yield = data_bin2_sum\n",
    "    make_datacard(plotDir, card_name, sig_yield, bkg_yield, sig_unc, sig_stat, bkg_unc, bkg_pred)\n",
    "    print(plotDir+card_name)"
   ]
  },
  {
   "cell_type": "code",
   "execution_count": 20,
   "metadata": {},
   "outputs": [
    {
     "name": "stdout",
     "output_type": "stream",
     "text": [
      "combine -M AsymptoticLimits /storage/user/jmao/gpu/jmao/cms-llp/plots/20200820/DataCards/v1/ggH_LLP_m127_ctau1m.txt -n _ggH_LLP_m127_ctau1m  --rMin 0.0 --rMax 1.0 -t -1 --expectSignal 0 -m 125 > limit_ggH_LLP_m127_ctau1m.txt\n",
      "combine -M AsymptoticLimits /storage/user/jmao/gpu/jmao/cms-llp/plots/20200820/DataCards/v1/ggH_LLP_m150_ctau1m.txt -n _ggH_LLP_m150_ctau1m  --rMin 0.0 --rMax 1.0 -t -1 --expectSignal 0 -m 125 > limit_ggH_LLP_m150_ctau1m.txt\n",
      "combine -M AsymptoticLimits /storage/user/jmao/gpu/jmao/cms-llp/plots/20200820/DataCards/v1/ggH_LLP_m175_ctau1m.txt -n _ggH_LLP_m175_ctau1m  --rMin 0.0 --rMax 1.0 -t -1 --expectSignal 0 -m 125 > limit_ggH_LLP_m175_ctau1m.txt\n",
      "combine -M AsymptoticLimits /storage/user/jmao/gpu/jmao/cms-llp/plots/20200820/DataCards/v1/ggH_LLP_m200_ctau1m.txt -n _ggH_LLP_m200_ctau1m  --rMin 0.0 --rMax 1.0 -t -1 --expectSignal 0 -m 125 > limit_ggH_LLP_m200_ctau1m.txt\n",
      "combine -M AsymptoticLimits /storage/user/jmao/gpu/jmao/cms-llp/plots/20200820/DataCards/v1/ggH_LLP_m250_ctau1m.txt -n _ggH_LLP_m250_ctau1m  --rMin 0.0 --rMax 1.0 -t -1 --expectSignal 0 -m 125 > limit_ggH_LLP_m250_ctau1m.txt\n",
      "combine -M AsymptoticLimits /storage/user/jmao/gpu/jmao/cms-llp/plots/20200820/DataCards/v1/ggH_LLP_m300_ctau1m.txt -n _ggH_LLP_m300_ctau1m  --rMin 0.0 --rMax 1.0 -t -1 --expectSignal 0 -m 125 > limit_ggH_LLP_m300_ctau1m.txt\n",
      "combine -M AsymptoticLimits /storage/user/jmao/gpu/jmao/cms-llp/plots/20200820/DataCards/v1/ggH_LLP_m400_ctau1m.txt -n _ggH_LLP_m400_ctau1m  --rMin 0.0 --rMax 1.0 -t -1 --expectSignal 0 -m 125 > limit_ggH_LLP_m400_ctau1m.txt\n"
     ]
    }
   ],
   "source": [
    "for mass in masses:\n",
    "        card_name = 'ggH_LLP_m'+str(mass)+'_ctau1m.txt'\n",
    "    #     print(plotDir+card_name)\n",
    "        print('combine -M AsymptoticLimits '+plotDir+card_name+' -n _ggH_LLP_m'+str(mass)+'_ctau1m  --rMin 0.0 --rMax 1.0 -t -1 --expectSignal 0 -m 125 > limit_ggH_LLP_m'+str(mass)+'_ctau1m.txt' )\n"
   ]
  },
  {
   "cell_type": "markdown",
   "metadata": {},
   "source": [
    "# Limit plot"
   ]
  },
  {
   "cell_type": "code",
   "execution_count": 13,
   "metadata": {},
   "outputs": [
    {
     "name": "stdout",
     "output_type": "stream",
     "text": [
      "mass  127  GeV\n",
      "-2σ , -σ , exp, +σ , +2σ , obs\n",
      "[0.00567627 0.00849075 0.01210937 0.01944618 0.03112113 0.01232974]\n",
      "[0.         0.         0.         0.         0.         0.00047329]\n",
      "mass  150  GeV\n",
      "-2σ , -σ , exp, +σ , +2σ , obs\n",
      "[0.01263428 0.01755638 0.02695313 0.04242396 0.06682543 0.02679155]\n",
      "[0.         0.         0.         0.         0.         0.00036341]\n",
      "mass  175  GeV\n",
      "-2σ , -σ , exp, +σ , +2σ , obs\n",
      "[0.01400147 0.01912498 0.02890625 0.04595904 0.0724996  0.02901077]\n",
      "[0.         0.         0.         0.         0.         0.00034841]\n",
      "mass  200  GeV\n",
      "-2σ , -σ , exp, +σ , +2σ , obs\n",
      "[0.01694031 0.02362704 0.03554688 0.05708396 0.09016004 0.03570561]\n",
      "[0.         0.         0.         0.         0.         0.00042219]\n",
      "mass  250  GeV\n",
      "-2σ , -σ , exp, +σ , +2σ , obs\n",
      "[0.01419067 0.01938343 0.02929688 0.04658011 0.07347932 0.02941737]\n",
      "[0.         0.         0.         0.         0.         0.00034285]\n",
      "mass  300  GeV\n",
      "-2σ , -σ , exp, +σ , +2σ , obs\n",
      "[0.01694031 0.02362704 0.03554688 0.05680058 0.09006042 0.03563851]\n",
      "[0.         0.         0.         0.         0.         0.00040765]\n",
      "mass  400  GeV\n",
      "-2σ , -σ , exp, +σ , +2σ , obs\n",
      "[0.02252503 0.03141618 0.04726563 0.07552605 0.11975066 0.04750207]\n",
      "[0.         0.         0.         0.         0.         0.00028532]\n"
     ]
    }
   ],
   "source": [
    "rtDir = '/storage/user/jmao/login-1/jmao/CMSSW_10_2_13/src/HiggsAnalysis/CombinedLimit/GMSB_LLP_V1p17_v2/'\n",
    "rtFiles = {}\n",
    "rtTrees = {}\n",
    "Limits = {}\n",
    "LimitErrs = {}\n",
    "\n",
    "for mass in masses:\n",
    "  \n",
    "    rtName = 'higgsCombine_ggH_LLP_m'+str(mass)+'_ctau1m.AsymptoticLimits.mH125.root'\n",
    "#     higgsCombine_ggH_LLP_m400_ctau1m.AsymptoticLimits.mH125.root\n",
    "    print('mass ', mass, ' GeV')\n",
    "#     print(rtName)\n",
    "    rtFiles[str(mass)] = rtDir+rtName\n",
    "\n",
    "    root_dir = uproot.open(rtFiles[str(mass)])\n",
    "    rtTrees[str(mass)] = root_dir['limit']\n",
    "\n",
    "    print( \"-2\\u03C3 , -\\u03C3 , exp, +\\u03C3 , +2\\u03C3 , obs\")\n",
    "    v = rtTrees[str(mass)]\n",
    "    limit = v['limit'].array()\n",
    "    print(limit)\n",
    "    limitErr = v['limitErr'].array()\n",
    "    print(limitErr)\n",
    "\n",
    "    Limits[str(mass)] = limit\n",
    "    LimitErrs[str(mass)] = limitErr\n"
   ]
  },
  {
   "cell_type": "code",
   "execution_count": 14,
   "metadata": {},
   "outputs": [
    {
     "name": "stdout",
     "output_type": "stream",
     "text": [
      "[127 150 175 200 250 300 400]\n",
      "[10.31       3.83231    2.58396    1.33562    0.81024    0.284855\n",
      "  0.0887372]\n",
      "0.33918976\n",
      "[3.49704643 1.29988031 0.87645277 0.45302863 0.27482511 0.0966199\n",
      " 0.03009875]\n"
     ]
    }
   ],
   "source": [
    "print(masses)\n",
    "\n",
    "xsecs = np.array([10.31, 1e-03*3832.31, 1e-03*2583.96, 1e-03*1335.62, 1e-03*810.24, 1e-03*284.855, 1e-03*88.7372])\n",
    "print(xsecs)\n",
    "br=0.5824*0.5824\n",
    "print(br)\n",
    "xsecs*=br\n",
    "print(xsecs)\n"
   ]
  },
  {
   "cell_type": "code",
   "execution_count": 17,
   "metadata": {},
   "outputs": [
    {
     "name": "stdout",
     "output_type": "stream",
     "text": [
      "{'127': 3.4970464256000002, '150': 1.2998803091456002, '175': 0.8764527722496, '200': 0.4530286272512, '250': 0.27482511114240005, '300': 0.09661989908480001, '400': 0.030098749571072}\n"
     ]
    }
   ],
   "source": [
    "XSECs = {}\n",
    "i=0\n",
    "for mass in masses:\n",
    "    XSECs[str(mass)] = xsecs[i]\n",
    "    i+=1\n",
    "    \n",
    "print(XSECs)"
   ]
  },
  {
   "cell_type": "code",
   "execution_count": 18,
   "metadata": {},
   "outputs": [
    {
     "name": "stdout",
     "output_type": "stream",
     "text": [
      "[0.04234705 0.03503584 0.02533496 0.01610375 0.00805152 0.00343454\n",
      " 0.00142264]\n",
      "[0.02969255868856316, 0.022821193286506357, 0.016762145895665628, 0.010703727596104818, 0.0053270534362500005, 0.0022828426681155106, 0.0009455876665665117]\n",
      "[0.06800421125160294, 0.05514606516547186, 0.0402809284759429, 0.025860670006558107, 0.012801382813964065, 0.005488066453921349, 0.002273239701861402]\n",
      "[0.019850178075000002, 0.016423048339425, 0.012271623167616152, 0.007674444811326445, 0.003899953512000001, 0.0016367709204192769, 0.0006779751025591239]\n",
      "[0.10883202049728165, 0.08686505685698556, 0.06354247806532604, 0.040845080081689675, 0.020193963544157815, 0.00870162872423852, 0.003604345235813299]\n",
      "[0.02969256 0.02282119 0.01676215 0.01070373 0.00532705 0.00228284\n",
      " 0.00094559 0.00227324 0.00548807 0.01280138 0.02586067 0.04028093\n",
      " 0.05514607 0.06800421]\n",
      "[0.01985018 0.01642305 0.01227162 0.00767444 0.00389995 0.00163677\n",
      " 0.00067798 0.00360435 0.00870163 0.02019396 0.04084508 0.06354248\n",
      " 0.08686506 0.10883202]\n",
      "[127 150 175 200 250 300 400 400 300 250 200 175 150 127]\n"
     ]
    }
   ],
   "source": [
    "import importlib\n",
    "importlib.reload(sys.modules['histo_utilities'])\n",
    "from histo_utilities import create_TH1D, create_TH2D, std_color_list, create_TGraph, make_ratio_plot\n",
    "\n",
    "\n",
    "expL = []\n",
    "exp1sigP = []\n",
    "exp1sigM = []\n",
    "exp2sigP = []\n",
    "exp2sigM = []\n",
    "for mass in masses:\n",
    "    expL.append(Limits[str(mass)][2]*XSECs[str(mass)])\n",
    "    exp1sigP.append(Limits[str(mass)][1]*XSECs[str(mass)])\n",
    "    exp1sigM.append(Limits[str(mass)][3]*XSECs[str(mass)])\n",
    "    exp2sigP.append(Limits[str(mass)][0]*XSECs[str(mass)])\n",
    "    exp2sigM.append(Limits[str(mass)][4]*XSECs[str(mass)])\n",
    "    \n",
    "expL = np.array(expL)\n",
    "expL1sigP= np.array(exp1sigP)\n",
    "expL1sigM= np.array(exp1sigM)\n",
    "expL2sigP= np.array(exp2sigP)\n",
    "expL2sigM= np.array(exp2sigM)\n",
    "\n",
    "print(expL)\n",
    "print(exp1sigP)\n",
    "print(exp1sigM)\n",
    "print(exp2sigP)\n",
    "print(exp2sigM)\n",
    "\n",
    "exp1sig = np.array(np.hstack((exp1sigP, np.flip(exp1sigM)))) \n",
    "exp2sig = np.array(np.hstack((exp2sigP, np.flip(exp2sigM)))) \n",
    "\n",
    "print(exp1sig)\n",
    "print(exp2sig)\n",
    "\n",
    "masses_2e = np.array(np.hstack((masses, np.flip(masses)))) \n",
    "print(masses_2e)\n",
    " "
   ]
  },
  {
   "cell_type": "code",
   "execution_count": 19,
   "metadata": {},
   "outputs": [
    {
     "name": "stdout",
     "output_type": "stream",
     "text": [
      "137 fb^{-1} (13 TeV)\n"
     ]
    },
    {
     "name": "stderr",
     "output_type": "stream",
     "text": [
      "Warning in <TCanvas::Constructor>: Deleting canvas with same name: c\n",
      "Info in <TCanvas::Print>: png file /storage/user/jmao/gpu/jmao/cms-llp/plots/20200820/LimitPlots/v1/Limit_1m.png has been created\n"
     ]
    },
    {
     "data": {
      "image/png": "[encoded data removed]",
      "text/plain": [
       "<IPython.core.display.Image object>"
      ]
     },
     "metadata": {},
     "output_type": "display_data"
    }
   ],
   "source": [
    "rt.gStyle.SetOptFit(1011)\n",
    "\n",
    "# h_exp = {}\n",
    "# h_exp1sig = {}\n",
    "# h_exp2sig = {}\n",
    "\n",
    "\n",
    "c = rt.TCanvas('c','c', 800, 800)\n",
    "leg = rt.TLegend(0.5,0.73,0.80,0.92)\n",
    "leg.SetTextSize(0.03)\n",
    "leg.SetBorderSize(0)\n",
    "leg.SetEntrySeparation(0.01)\n",
    "\n",
    "h_the = create_TGraph(masses, xsecs,  axis_title=['Mass [GeV]', '95% CL Limit on xsec[pb]'])\n",
    "h_exp = create_TGraph(masses, expL,  axis_title=['Mass [GeV]', '95% CL Limit on xsec[pb]'])\n",
    "\n",
    "h_exp1sig = create_TGraph(masses_2e,  exp1sig)\n",
    "h_exp2sig = create_TGraph(masses_2e,  exp2sig)\n",
    "\n",
    "\n",
    "leg.AddEntry(h_the, \"Theory\", \"L\")\n",
    "leg.AddEntry(h_exp, \"Expected  95% CL upper limit\", \"L\")\n",
    "leg.AddEntry(h_exp1sig, \"#pm 1 #sigma Expected\", 'F')\n",
    "leg.AddEntry(h_exp2sig, \"#pm 2 #sigma Expected\", 'F')\n",
    "h_the.SetLineStyle(2)\n",
    "h_the.SetLineColor(2)\n",
    "h_the.SetLineWidth(2)\n",
    "h_exp.SetLineColor(1)\n",
    "h_exp.SetLineWidth(2)\n",
    "h_exp1sig.SetFillColor(417)\n",
    "h_exp2sig.SetFillColor(800)\n",
    "h_exp.GetXaxis().SetLimits(100,500.0)\n",
    "h_exp.GetXaxis().SetLabelSize(0.04)\n",
    "h_exp.GetYaxis().SetRangeUser(1e-3,1e+1)\n",
    "h_exp.GetXaxis().SetTitleOffset(1)\n",
    "\n",
    "h_exp.Draw('LA')\n",
    "h_exp2sig.Draw( 'Fsame')\n",
    "h_exp1sig.Draw('Fsame')\n",
    "h_exp.Draw('Lsame')\n",
    "h_the.Draw('Lsame')\n",
    "\n",
    "tdrstyle.setTDRStyle()\n",
    "CMS_lumi.cmsText     = \"CMS\"\n",
    "iPos = 0\n",
    "CMS_lumi.writeExtraText = True\n",
    "CMS_lumi.extraText   = \"Preliminary\"\n",
    "\n",
    "iPos = 0\n",
    "if( iPos==0 ): CMS_lumi.relPosX = 0.12\n",
    "CMS_lumi.CMS_lumi(c, 4, 0)\n",
    "leg.Draw()\n",
    "c.SetRightMargin(0.03)\n",
    "c.SetLogy()\n",
    "# c.SetLogx()\n",
    "\n",
    "c.Draw() \n",
    "LimDir = '/storage/user/jmao/gpu/jmao/cms-llp/plots/20200820/LimitPlots/'+version\n",
    "\n",
    "os.system(\"mkdir -p \"+ LimDir)\n",
    "c.SaveAs(LimDir+'Limit_1m.png')"
   ]
  },
  {
   "cell_type": "code",
   "execution_count": null,
   "metadata": {},
   "outputs": [],
   "source": []
  }
 ],
 "metadata": {
  "kernelspec": {
   "display_name": "Python 3",
   "language": "python",
   "name": "python3"
  },
  "language_info": {
   "codemirror_mode": {
    "name": "ipython",
    "version": 3
   },
   "file_extension": ".py",
   "mimetype": "text/x-python",
   "name": "python",
   "nbconvert_exporter": "python",
   "pygments_lexer": "ipython3",
   "version": "3.6.8"
  }
 },
 "nbformat": 4,
 "nbformat_minor": 4
}
