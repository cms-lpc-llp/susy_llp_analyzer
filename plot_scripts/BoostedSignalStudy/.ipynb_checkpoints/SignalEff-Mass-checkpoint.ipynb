{
 "cells": [
  {
   "cell_type": "markdown",
   "metadata": {},
   "source": [
    "# Imports "
   ]
  },
  {
   "cell_type": "code",
   "execution_count": 1,
   "metadata": {},
   "outputs": [
    {
     "name": "stdout",
     "output_type": "stream",
     "text": [
      "Welcome to JupyROOT 6.18/02\n",
      "3.6.8 (default, Aug  7 2019, 17:28:10) \n",
      "[GCC 4.8.5 20150623 (Red Hat 4.8.5-39)]\n"
     ]
    }
   ],
   "source": [
    "import ROOT as rt\n",
    "import csv\n",
    "import re\n",
    "import sys\n",
    "import collections\n",
    "from collections import OrderedDict\n",
    "import uproot\n",
    "import numpy as np\n",
    "import time\n",
    "import numba\n",
    "from numba import jit\n",
    "from matplotlib import pyplot as plt\n",
    "from numpy import linalg as LA\n",
    "from ROOT import TLorentzVector\n",
    "from array import array\n",
    "# import PyTEX\n",
    "import os\n",
    "\n",
    "import math\n",
    "import random\n",
    "from optparse import OptionParser\n",
    "\n",
    "sys.path.append('/storage/user/jmao/gpu/jmao/cms-llp/delayed_jet_analyzer/lib/')\n",
    "\n",
    "from histo_utilities import create_TH1D, create_TH2D, create_TGraph,std_color_list, make_ratio_plot\n",
    "\n",
    "import CMS_lumi, tdrstyle \n",
    "tdrstyle.setTDRStyle()\n",
    "CMS_lumi.writeExtraText = 1\n",
    "CMS_lumi.extraText = \"     Simulation Preliminary\"\n",
    "\n",
    "     \n",
    "print(sys.version)\n",
    "\n",
    "from sklearn.model_selection import train_test_split\n",
    "from sklearn.metrics import accuracy_score, roc_curve, roc_auc_score\n",
    "import pandas as pd\n",
    "import pickle as pickle\n",
    "import shlex\n",
    "import uproot\n",
    "import seaborn as sns\n",
    "\n",
    "from scipy.spatial.distance import cdist\n",
    "from collections import Counter \n",
    "import datetime\n",
    "import pytz\n",
    "\n",
    "from prettytable import PrettyTable\n",
    "from pyjet import cluster\n",
    "\n",
    "import xgboost as xgb\n",
    "os.environ['KMP_DUPLICATE_LIB_OK']='True'\n",
    "from xgboost import XGBClassifier\n"
   ]
  },
  {
   "cell_type": "code",
   "execution_count": 7,
   "metadata": {},
   "outputs": [
    {
     "data": {
      "text/plain": [
       "0"
      ]
     },
     "execution_count": 7,
     "metadata": {},
     "output_type": "execute_result"
    }
   ],
   "source": [
    "# root settings\n",
    "rt.gROOT.SetBatch(True)\n",
    "rt.gStyle.SetOptStat(0)\n",
    "rt.gStyle.SetOptFit(111)\n",
    "rt.gStyle.SetPaintTextFormat(\"2.1f\")\n",
    "\n",
    "# plt.rcParams[\"font.family\"] = \"Arial\"\n",
    "plt.rcParams[\"axes.unicode_minus\"] = False\n",
    "plt.rcParams[\"text.usetex\"] = False\n",
    "plt.rcParams[\"mathtext.fontset\"] = \"cm\"\n",
    "\n",
    "# test_name = 'xgb_HH_vs_QCD_ebBDT'\n",
    "\n",
    "lumi_sf_sig = 137.0 # scale lumi from sample to full run2\n",
    "lumi_sf_bkg = 137.0\n",
    "\n",
    "#output dir\n",
    " \n",
    "# plotDir = '/storage/user/jmao/gpu/jmao/cms-llp/plots/20200922/'\n",
    "plotDir = '/storage/user/jmao/gpu/jmao/cms-llp/plots/20201005/'\n",
    "\n",
    "os.system(\"mkdir -p \"+ plotDir)"
   ]
  },
  {
   "cell_type": "markdown",
   "metadata": {},
   "source": [
    "# Signal part"
   ]
  },
  {
   "cell_type": "code",
   "execution_count": null,
   "metadata": {},
   "outputs": [],
   "source": []
  },
  {
   "cell_type": "code",
   "execution_count": 4,
   "metadata": {},
   "outputs": [
    {
     "name": "stdout",
     "output_type": "stream",
     "text": [
      "/mnt/hadoop/store/group/phys_exotica/delayedjets/displacedJetTimingAnalyzer/V1p17/v15/MC_Fall17/normalized/n3n2-n1-hbb-hbb_mh200_pl1000_ev100000_1pb_weighted.root\n",
      "Open ready\n",
      "200\n",
      "Tree ready\n",
      "<TTree b'SusyLLPSigEffTree' at 0x7f00abf7e0f0> OrderedDict([('200', <TTree b'SusyLLPSigEffTree' at 0x7f00abf7e0f0>)])\n",
      "[ 19.77537   32.479465 117.93462   40.9064    42.137012  39.86829\n",
      "  79.96089  465.6484    33.536144  24.653229]\n",
      "[8.116029e-06 8.116029e-06 8.116029e-06 8.116029e-06 8.116029e-06\n",
      " 8.116029e-06 8.116029e-06 8.116029e-06 8.116029e-06 8.116029e-06]\n",
      "[8.116029e-06]\n"
     ]
    }
   ],
   "source": [
    "# masses = np.array([127, 150, 175, 200, 250, 300, 400])\n",
    "masses = np.array([ 200 ])\n",
    "\n",
    "\n",
    "# directory\n",
    "home_dir = '/mnt/hadoop/store/group/phys_exotica/delayedjets/displacedJetTimingAnalyzer/V1p17/v15/MC_Fall17/normalized/'\n",
    "# file names\n",
    "fnames = {}\n",
    "# get all the trees\n",
    "tree = OrderedDict()\n",
    "\n",
    "for mass in masses:\n",
    "    fnames[str(mass)] = 'n3n2-n1-hbb-hbb_mh'+str(mass)+'_pl1000_ev100000_1pb_weighted.root'\n",
    "#     fnames[str(mass)] = 'n3n2-n1-hbb-hbb_mh'+str(mass)+'_pl10000_ev100000_1pb_weighted.root'\n",
    "\n",
    "    print(home_dir+fnames[str(mass)])\n",
    "\n",
    "    root_dir = uproot.open(home_dir+fnames[str(mass)])\n",
    "    tree[str(mass)] = root_dir['SusyLLPSigEffTree']\n",
    "\n",
    "    print ('Open ready')\n",
    "    print(mass)\n",
    "    print ('Tree ready')\n",
    "    print(tree[str(mass)], tree)\n",
    "    v = tree[str(mass)]\n",
    "    jet_amax = v['met'].array()\n",
    "    print(jet_amax[:10])\n",
    "    jet_amax = v['weight'].array()\n",
    "    print(jet_amax[:10])\n",
    "    print(np.unique(jet_amax))\n",
    "     \n"
   ]
  },
  {
   "cell_type": "code",
   "execution_count": 5,
   "metadata": {},
   "outputs": [
    {
     "name": "stdout",
     "output_type": "stream",
     "text": [
      "200 <TTree b'SusyLLPSigEffTree' at 0x7f00abf7e0f0>\n"
     ]
    }
   ],
   "source": [
    "for k,v in tree.items():\n",
    "    print(k,v)"
   ]
  },
  {
   "cell_type": "markdown",
   "metadata": {},
   "source": [
    "# 0 lep region"
   ]
  },
  {
   "cell_type": "code",
   "execution_count": 9,
   "metadata": {},
   "outputs": [
    {
     "name": "stdout",
     "output_type": "stream",
     "text": [
      "200 <TTree b'SusyLLPSigEffTree' at 0x7f00abf7e0f0>\n",
      "(55819,)\n",
      "49915\n",
      "49915\n"
     ]
    }
   ],
   "source": [
    "# trg_path=310\n",
    "trg_path=467\n",
    "#check trg sel, may not applied\n",
    "# met_cut=200\n",
    "met_cut=0\n",
    "\n",
    "\n",
    "trg_jet_met = {}\n",
    "trg_jet_hpt = {}\n",
    "trg_jet_hid = {}\n",
    "\n",
    "trg_jet_w = {} \n",
    "trg_jet_puw = {} \n",
    "\n",
    "\n",
    "\n",
    "for k,v in tree.items():\n",
    "    print(k,v)\n",
    "\n",
    "    # branches\n",
    "    met = v['met'].array()\n",
    "    hpt = v['gLLP_daughter_pt'].array()\n",
    "    hid = v['gLLP_daughter_id'].array()\n",
    "\n",
    "    hlt = v['HLTDecision'].array()[:,trg_path]\n",
    "\n",
    "\n",
    "#     \n",
    "    \n",
    "    #flags\n",
    "    flag1 =  v['Flag2_globalSuperTightHalo2016Filter'].array()\n",
    "#     flag2 =  v['Flag2_globalTightHalo2016Filter'].array() \n",
    "#     flag3 =  v['Flag2_goodVertices'].array()\n",
    "#     flag4 =  v['Flag2_BadChargedCandidateFilter'].array() \n",
    "    flag5 =  v['Flag2_BadPFMuonFilter'].array() \n",
    "    flag6 =  v['Flag2_EcalDeadCellTriggerPrimitiveFilter'].array() \n",
    "    flag7 =  v['Flag2_HBHENoiseFilter'].array() \n",
    "    flag8 =  v['Flag2_HBHEIsoNoiseFilter'].array() \n",
    "    flag9 =  v['Flag2_ecalBadCalibFilter'].array() \n",
    "    flag10 =  v['Flag2_eeBadScFilter'].array() \n",
    "    \n",
    "\n",
    "\n",
    "    weight = v['weight'].array()\n",
    "    \n",
    "    #pileup weights\n",
    "#     if 'background' in k:\n",
    "    if 'Data' not in k:\n",
    "        PUweight = v['pileupWeight'].array()\n",
    "        \n",
    "    \n",
    "    print(weight.shape)\n",
    "    \n",
    "    #selection\n",
    "    \n",
    "    sel_hlt_triggered = 1\n",
    "    sel_hlt_str  = np.logical_and(sel_hlt_triggered, hlt)\n",
    "    \n",
    "    sel_flag_str = np.logical_and(flag1, flag5)\n",
    "    sel_flag_str = np.logical_and(sel_flag_str, flag6)\n",
    "    sel_flag_str = np.logical_and(sel_flag_str, flag7)\n",
    "    sel_flag_str = np.logical_and(sel_flag_str, flag8)\n",
    "    if '2016' not in k:\n",
    "        sel_flag_str = np.logical_and(sel_flag_str, flag9)\n",
    "    if 'Data' in k:\n",
    "        sel_flag_str = np.logical_and(sel_flag_str, flag10)\n",
    "\n",
    "    basic_met_str = np.logical_and(met>met_cut, met>met_cut)    \n",
    "\n",
    "#     met_trg_str = np.logical_and(basic_met_str, sel_hlt_str)\n",
    "    met_trg_str = np.logical_and(basic_met_str, sel_hlt_triggered)\n",
    "    met_trg_str = np.logical_and(basic_met_str, sel_flag_str)\n",
    "\n",
    "    \n",
    "    #apply sel\n",
    "    trg_jet_met[k] = met[met_trg_str]\n",
    "    trg_jet_hpt[k] = hpt[met_trg_str]\n",
    "    trg_jet_hid[k] = hid[met_trg_str]\n",
    "\n",
    "    trg_jet_w[k] = weight[met_trg_str]\n",
    "    if 'Data' not in k:\n",
    "        trg_jet_puw[k] = PUweight[met_trg_str]\n",
    "\n",
    "\n",
    "\n",
    "\n",
    "    print(len(trg_jet_w[k]))\n",
    "    print(len(trg_jet_puw[k]))\n"
   ]
  },
  {
   "cell_type": "markdown",
   "metadata": {},
   "source": [
    "# H Pt"
   ]
  },
  {
   "cell_type": "code",
   "execution_count": 11,
   "metadata": {},
   "outputs": [
    {
     "name": "stdout",
     "output_type": "stream",
     "text": [
      "[66.602196 49.44233  34.67347  34.174664]\n",
      "[1000022      25 1000022      25]\n",
      "49915\n",
      "99830\n"
     ]
    }
   ],
   "source": [
    "print(trg_jet_hpt[k][0])\n",
    "print(trg_jet_hid[k][0])\n",
    "h_str = np.logical_and(1, trg_jet_hid[k]==25)\n",
    "print(len(trg_jet_hpt[k]))\n",
    "print(len(trg_jet_hpt[k][h_str]))\n"
   ]
  },
  {
   "cell_type": "code",
   "execution_count": null,
   "metadata": {},
   "outputs": [
    {
     "name": "stdout",
     "output_type": "stream",
     "text": [
      "200 <TTree b'SusyLLPSigEffTree' at 0x7f00abf7e0f0>\n",
      "99830\n",
      "49915\n"
     ]
    }
   ],
   "source": [
    "# Plotting  \n",
    "c = rt.TCanvas('c','c', 800, 800)\n",
    "ht = {}\n",
    "leg = rt.TLegend(0.60,0.78,0.97,0.94)\n",
    "\n",
    "leg.SetTextSize(0.025)\n",
    "leg.SetBorderSize(0)\n",
    "leg.SetEntrySeparation(0.01)\n",
    "\n",
    "\n",
    "color_list = [845,806,861,876,597,625]\n",
    "\n",
    "i=0\n",
    "for k,v in tree.items():\n",
    "    print(k,v)\n",
    "    \n",
    "    h_str = np.logical_and(1, trg_jet_hid[k]==25)\n",
    "    var = trg_jet_hpt[k][h_str]\n",
    "    ws = trg_jet_w[k]*trg_jet_puw[k]\n",
    "    ws = np.array([[x,x] for x in ws])\n",
    "    ws = ws.flatten()\n",
    "    print(len(var))\n",
    "    print(len(ws))\n",
    "    axis_set = ['H Pt [GeV]', 'Events']\n",
    "    bin_set = [40,0,2000]\n",
    "    lumi=137000\n",
    "    \n",
    "    ht[k] = create_TH1D( var, axis_title=axis_set, name=k, binning=bin_set,weights = ws*lumi)\n",
    "    ht[k].SetLineColor(std_color_list[i])\n",
    "    ht[k].GetXaxis().SetLabelSize(0.03)\n",
    "    ht[k].GetYaxis().SetRangeUser(1,1e+5)\n",
    "    print(k, std_color_list[i])\n",
    "    ht[k].Draw(\"hist E same\")\n",
    "    leg.AddEntry(ht[k],'1 m, m_{Chi} = '+k+' GeV')  \n",
    "    \n",
    "    i+=1\n",
    "    \n",
    "CMS_lumi.lumi_13TeV = str(lumi/1000)+\" fb^{-1}\"\n",
    "CMS_lumi.cmsText = \"\"\n",
    "CMS_lumi.writeExtraText = False\n",
    "CMS_lumi.CMS_lumi(c,4,3)\n",
    "\n",
    "leg.Draw()\n",
    "c.SetLeftMargin(0.2)\n",
    "c.SetRightMargin(0.027)\n",
    "c.SetLogy()\n",
    "c.Draw()\n",
    "outf='HPt.png'\n",
    "c.SaveAs(plotDir+outf)    \n",
    "    "
   ]
  },
  {
   "cell_type": "markdown",
   "metadata": {},
   "source": [
    "# MET"
   ]
  },
  {
   "cell_type": "code",
   "execution_count": 8,
   "metadata": {},
   "outputs": [
    {
     "name": "stdout",
     "output_type": "stream",
     "text": [
      "200 <TTree b'SusyLLPSigEffTree' at 0x7f00abf7e0f0>\n",
      "200 1\n",
      "137.0 fb^{-1} (13 TeV)\n"
     ]
    },
    {
     "name": "stderr",
     "output_type": "stream",
     "text": [
      "Info in <TCanvas::Print>: png file /storage/user/jmao/gpu/jmao/cms-llp/plots/20201005/MET.png has been created\n"
     ]
    },
    {
     "data": {
      "image/png": "[encoded data removed]",
      "text/plain": [
       "<IPython.core.display.Image object>"
      ]
     },
     "metadata": {},
     "output_type": "display_data"
    }
   ],
   "source": [
    "# Plotting  \n",
    "c = rt.TCanvas('c','c', 800, 800)\n",
    "ht = {}\n",
    "leg = rt.TLegend(0.60,0.78,0.97,0.94)\n",
    "\n",
    "leg.SetTextSize(0.025)\n",
    "leg.SetBorderSize(0)\n",
    "leg.SetEntrySeparation(0.01)\n",
    "\n",
    "\n",
    "color_list = [845,806,861,876,597,625]\n",
    "\n",
    "i=0\n",
    "for k,v in tree.items():\n",
    "    print(k,v)\n",
    "    \n",
    "    var = trg_jet_met[k]\n",
    "    ws = trg_jet_w[k]*trg_jet_puw[k]\n",
    "    axis_set = ['MET [GeV]', 'Events']\n",
    "    bin_set = [40,0,2000]\n",
    "    lumi=137000\n",
    "    \n",
    "    ht[k] = create_TH1D( var, axis_title=axis_set, name=k, binning=bin_set,weights = ws*lumi)\n",
    "    ht[k].SetLineColor(std_color_list[i])\n",
    "    ht[k].GetXaxis().SetLabelSize(0.03)\n",
    "    ht[k].GetYaxis().SetRangeUser(1,1e+5)\n",
    "    print(k, std_color_list[i])\n",
    "    ht[k].Draw(\"hist E same\")\n",
    "    leg.AddEntry(ht[k],'1 m, m_{Chi} = '+k+' GeV')  \n",
    "    \n",
    "    i+=1\n",
    "    \n",
    "CMS_lumi.lumi_13TeV = str(lumi/1000)+\" fb^{-1}\"\n",
    "CMS_lumi.cmsText = \"\"\n",
    "CMS_lumi.writeExtraText = False\n",
    "CMS_lumi.CMS_lumi(c,4,3)\n",
    "\n",
    "leg.Draw()\n",
    "c.SetLeftMargin(0.2)\n",
    "c.SetRightMargin(0.027)\n",
    "c.SetLogy()\n",
    "c.Draw()\n",
    "outf='MET.png'\n",
    "c.SaveAs(plotDir+outf)    \n",
    "    "
   ]
  },
  {
   "cell_type": "code",
   "execution_count": 20,
   "metadata": {},
   "outputs": [
    {
     "name": "stdout",
     "output_type": "stream",
     "text": [
      "127 <TTree b'SusyLLPSigEffTree' at 0x7f23fac9ce10>\n",
      "127 1\n",
      "150 <TTree b'SusyLLPSigEffTree' at 0x7f23fac2fb70>\n",
      "150 2\n",
      "175 <TTree b'SusyLLPSigEffTree' at 0x7f23f9d98358>\n",
      "175 4\n",
      "200 <TTree b'SusyLLPSigEffTree' at 0x7f23f9662438>\n",
      "200 8\n",
      "250 <TTree b'SusyLLPSigEffTree' at 0x7f23fbba2748>\n",
      "250 6\n",
      "300 <TTree b'SusyLLPSigEffTree' at 0x7f23f8edd390>\n",
      "300 28\n",
      "400 <TTree b'SusyLLPSigEffTree' at 0x7f23f87c4518>\n",
      "400 43\n",
      "137.0 fb^{-1} (13 TeV)\n"
     ]
    },
    {
     "name": "stderr",
     "output_type": "stream",
     "text": [
      "Warning in <TCanvas::Constructor>: Deleting canvas with same name: c\n",
      "Info in <TCanvas::Print>: png file /storage/user/jmao/gpu/jmao/cms-llp/plots/20200922/MET_shape.png has been created\n"
     ]
    },
    {
     "data": {
      "image/png": "[encoded data removed]",
      "text/plain": [
       "<IPython.core.display.Image object>"
      ]
     },
     "metadata": {},
     "output_type": "display_data"
    }
   ],
   "source": [
    "# Plotting  \n",
    "c = rt.TCanvas('c','c', 800, 800)\n",
    "ht = {}\n",
    "leg = rt.TLegend(0.60,0.78,0.97,0.94)\n",
    "\n",
    "leg.SetTextSize(0.025)\n",
    "leg.SetBorderSize(0)\n",
    "leg.SetEntrySeparation(0.01)\n",
    "\n",
    "\n",
    "color_list = [845,806,861,876,597,625]\n",
    "\n",
    "i=0\n",
    "for k,v in tree.items():\n",
    "    print(k,v)\n",
    "    \n",
    "    var = trg_jet_met[k]\n",
    "    ws = trg_jet_w[k]*trg_jet_puw[k]\n",
    "    axis_set = ['MET [GeV]', 'Events']\n",
    "    bin_set = [40,0,2000]\n",
    "    lumi=137000\n",
    "    \n",
    "    ht[k] = create_TH1D( var, axis_title=axis_set, name=k, binning=bin_set,weights = ws*lumi)\n",
    "    ht[k].SetLineColor(std_color_list[i])\n",
    "    ht[k].GetXaxis().SetLabelSize(0.03)\n",
    "#     ht[k].GetYaxis().SetRangeUser(1,1e+5)\n",
    "    print(k, std_color_list[i])\n",
    "    ht[k].DrawNormalized(\"hist E same\")\n",
    "    leg.AddEntry(ht[k],'1 m, m_{Chi} = '+k+' GeV')  \n",
    "    \n",
    "    i+=1\n",
    "    \n",
    "CMS_lumi.lumi_13TeV = str(lumi/1000)+\" fb^{-1}\"\n",
    "CMS_lumi.cmsText = \"\"\n",
    "CMS_lumi.writeExtraText = False\n",
    "CMS_lumi.CMS_lumi(c,4,3)\n",
    "\n",
    "leg.Draw()\n",
    "c.SetLeftMargin(0.2)\n",
    "c.SetRightMargin(0.027)\n",
    "c.SetLogy()\n",
    "c.Draw()\n",
    "outf='MET_shape.png'\n",
    "c.SaveAs(plotDir+outf)    \n",
    "    "
   ]
  },
  {
   "cell_type": "markdown",
   "metadata": {},
   "source": [
    "# Signal Yields"
   ]
  },
  {
   "cell_type": "code",
   "execution_count": 28,
   "metadata": {},
   "outputs": [
    {
     "name": "stdout",
     "output_type": "stream",
     "text": [
      "\n",
      "\n",
      "======================= Summary ==============================\n",
      "+--------+-----------------+-------------+-------------------+-----------------------------+----------------------------------+------------+\n",
      "| Sample |      Weight     | Event Yield | Event Yield Error | Event Yield [MET > 200 GeV] | Event Yield Error[MET > 200 GeV] | SigEff [%] |\n",
      "+--------+-----------------+-------------+-------------------+-----------------------------+----------------------------------+------------+\n",
      "|  127   | [5.6951445e-05] |  453232.53  |      2049.05      |           27707.97          |              505.6               |    0.06    |\n",
      "|  150   | [2.1877613e-05] |  167709.73  |       772.45      |           11067.93          |              198.68              |    0.07    |\n",
      "|  175   | [1.5398517e-05] |  112791.67  |       531.07      |           7917.73           |              140.75              |    0.07    |\n",
      "|  200   |  [8.116029e-06] |   57939.51  |       276.45      |           4823.42           |              79.66               |    0.08    |\n",
      "|  250   | [5.1101733e-06] |   35102.73  |       170.91      |           4238.78           |              59.37               |    0.12    |\n",
      "|  300   | [1.8683509e-06] |   12328.86  |        61.2       |           2201.02           |              25.82               |    0.18    |\n",
      "|  400   |  [6.086827e-07] |    3822.0   |       19.46       |           1262.64           |              11.18               |    0.33    |\n",
      "+--------+-----------------+-------------+-------------------+-----------------------------+----------------------------------+------------+\n"
     ]
    }
   ],
   "source": [
    "from prettytable import PrettyTable\n",
    "print('\\n\\n======================= Summary ==============================')\n",
    "table =  PrettyTable(['Sample', 'Weight' , 'Event Yield', 'Event Yield Error', 'Event Yield [MET > 200 GeV]', 'Event Yield Error[MET > 200 GeV]', 'SigEff [%]' ])\n",
    "for k,v in tree.items():\n",
    "\n",
    "    lumi=137000\n",
    "\n",
    "    EventALLW = [x*y for x,y in zip(trg_jet_w[k] ,trg_jet_puw[k] )]\n",
    "    EventALLWsq = [x*x  for x in EventALLW]\n",
    "    EventW = [x*y for x,y in zip(trg_jet_w[k][trg_jet_met[k]>200],trg_jet_puw[k][trg_jet_met[k]>200])]\n",
    "    EventWsq = [x*x  for x in EventW]\n",
    "    row = [k, np.unique(trg_jet_w[k]) ,round(np.sum(EventALLW)*lumi, 2), round(math.sqrt(np.sum(EventALLWsq))*lumi, 2),round(np.sum(EventW)*lumi, 2), round(math.sqrt(np.sum(EventWsq))*lumi, 2), round( 1*(np.sum(EventW)/np.sum(EventALLW)), 2) ]\n",
    "    table.add_row(row)\n",
    "        \n",
    "print(table)"
   ]
  },
  {
   "cell_type": "code",
   "execution_count": 29,
   "metadata": {},
   "outputs": [],
   "source": [
    "table_txt = table.get_string()\n",
    "# with open(plotDir+'/1m_MET200_Eff.txt','w') as file:\n",
    "with open(plotDir+'/Trg310_1m_MET200_Eff.txt','w') as file:\n",
    "    file.write(table_txt)"
   ]
  },
  {
   "cell_type": "markdown",
   "metadata": {},
   "source": [
    "# Reweight check"
   ]
  },
  {
   "cell_type": "code",
   "execution_count": 8,
   "metadata": {},
   "outputs": [
    {
     "name": "stdout",
     "output_type": "stream",
     "text": [
      "200 <TTree b'SusyLLPSigEffTree' at 0x7f24e4bce0b8>\n",
      "(55819,)\n",
      "49915\n",
      "49915\n"
     ]
    }
   ],
   "source": [
    "# trg_path=310\n",
    "# trg_path=467\n",
    "# met_cut=200\n",
    "met_cut=0\n",
    "\n",
    "#no met cut, no trg\n",
    "\n",
    "\n",
    "trg_jet_met = {}\n",
    "\n",
    "trg_jet_ctau = {}\n",
    "\n",
    "trg_jet_w = {} \n",
    "trg_jet_puw = {} \n",
    "\n",
    "\n",
    "\n",
    "for k,v in tree.items():\n",
    "    print(k,v)\n",
    "\n",
    "    # branches\n",
    "    met = v['met'].array()\n",
    "\n",
    "    hlt = v['HLTDecision'].array()[:,trg_path]\n",
    "\n",
    "\n",
    "    #gLLP\n",
    "    llp_ctau = v['gLLP_ctau'].array()\n",
    "    \n",
    "    #flags\n",
    "    flag1 =  v['Flag2_globalSuperTightHalo2016Filter'].array()\n",
    "#     flag2 =  v['Flag2_globalTightHalo2016Filter'].array() \n",
    "#     flag3 =  v['Flag2_goodVertices'].array()\n",
    "#     flag4 =  v['Flag2_BadChargedCandidateFilter'].array() \n",
    "    flag5 =  v['Flag2_BadPFMuonFilter'].array() \n",
    "    flag6 =  v['Flag2_EcalDeadCellTriggerPrimitiveFilter'].array() \n",
    "    flag7 =  v['Flag2_HBHENoiseFilter'].array() \n",
    "    flag8 =  v['Flag2_HBHEIsoNoiseFilter'].array() \n",
    "    flag9 =  v['Flag2_ecalBadCalibFilter'].array() \n",
    "    flag10 =  v['Flag2_eeBadScFilter'].array() \n",
    "    \n",
    "\n",
    "\n",
    "    weight = v['weight'].array()\n",
    "    \n",
    "    #pileup weights\n",
    "#     if 'background' in k:\n",
    "    if 'Data' not in k:\n",
    "        PUweight = v['pileupWeight'].array()\n",
    "        \n",
    "    \n",
    "    print(weight.shape)\n",
    "    \n",
    "    #selection\n",
    "    \n",
    "    sel_hlt_triggered = 1\n",
    "    sel_hlt_str  = np.logical_and(sel_hlt_triggered, hlt)\n",
    "    \n",
    "    sel_flag_str = np.logical_and(flag1, flag5)\n",
    "    sel_flag_str = np.logical_and(sel_flag_str, flag6)\n",
    "    sel_flag_str = np.logical_and(sel_flag_str, flag7)\n",
    "    sel_flag_str = np.logical_and(sel_flag_str, flag8)\n",
    "    if '2016' not in k:\n",
    "        sel_flag_str = np.logical_and(sel_flag_str, flag9)\n",
    "    if 'Data' in k:\n",
    "        sel_flag_str = np.logical_and(sel_flag_str, flag10)\n",
    "\n",
    "    basic_met_str = np.logical_and(met>met_cut, met>met_cut)    \n",
    "\n",
    "#     met_trg_str = np.logical_and(basic_met_str, sel_hlt_str)\n",
    "    met_trg_str = np.logical_and(basic_met_str, sel_hlt_triggered)\n",
    "    met_trg_str = np.logical_and(basic_met_str, sel_flag_str)\n",
    "\n",
    "    \n",
    "    #apply sel\n",
    "    trg_jet_met[k] = met[met_trg_str]\n",
    "    \n",
    "    trg_jet_ctau[k] = llp_ctau[met_trg_str]\n",
    "    \n",
    "    trg_jet_w[k] = weight[met_trg_str]\n",
    "    if 'Data' not in k:\n",
    "        trg_jet_puw[k] = PUweight[met_trg_str]\n",
    "\n",
    "\n",
    "\n",
    "\n",
    "    print(len(trg_jet_w[k]))\n",
    "    print(len(trg_jet_puw[k]))\n"
   ]
  },
  {
   "cell_type": "code",
   "execution_count": 10,
   "metadata": {},
   "outputs": [
    {
     "name": "stdout",
     "output_type": "stream",
     "text": [
      "\n",
      "\n",
      "======================= Summary ==============================\n",
      "+--------+----------------+----------+--------+\n",
      "| Sample |     Weight     |   Yield  | Error  |\n",
      "+--------+----------------+----------+--------+\n",
      "|  200   | [8.116029e-06] | 57939.51 | 276.45 |\n",
      "+--------+----------------+----------+--------+\n"
     ]
    }
   ],
   "source": [
    "from prettytable import PrettyTable\n",
    "print('\\n\\n======================= Summary ==============================')\n",
    "table =  PrettyTable(['Sample', 'Weight' , ' Yield', 'Error'])\n",
    "for k,v in tree.items():\n",
    " \n",
    "    lumi=137000\n",
    " \n",
    "    EventW = [x*y for x,y in zip(trg_jet_w[k] ,trg_jet_puw[k] )]\n",
    "    EventWsq = [x*x  for x in EventW]\n",
    "    row = [k, np.unique(trg_jet_w[k]) ,round(np.sum(EventW)*lumi, 2), round(math.sqrt(np.sum(EventWsq))*lumi, 2) ]\n",
    "    table.add_row(row)\n",
    "        \n",
    "print(table)"
   ]
  },
  {
   "cell_type": "code",
   "execution_count": 9,
   "metadata": {},
   "outputs": [],
   "source": [
    "def weight_calc(llp_ct, new_ctau, old_ctau):\n",
    "    source = np.exp(-1.0*llp_ct/old_ctau)/old_ctau**2\n",
    "    weight = 1.0/new_ctau**2 * np.exp(-1.0*llp_ct/new_ctau)/source\n",
    "    return weight"
   ]
  },
  {
   "cell_type": "code",
   "execution_count": 22,
   "metadata": {},
   "outputs": [
    {
     "name": "stdout",
     "output_type": "stream",
     "text": [
      "200\n",
      "ctau 100  mm\n"
     ]
    }
   ],
   "source": [
    "# OLD_CTAU=10000 #mm\n",
    "# ctaus=np.array([1000])\n",
    "\n",
    "OLD_CTAU=1000 #mm\n",
    "ctaus=np.array([100])\n",
    "\n",
    "EventReW = {}\n",
    "for k,v in tree.items():\n",
    "    print(k)\n",
    "    if len(trg_jet_ctau[k]) == 0: continue\n",
    "    EventReW[k] = {}\n",
    "    for ct in ctaus: \n",
    "        print('ctau', ct, ' mm')\n",
    "        EventW = [x*y for x,y in zip(trg_jet_w[k] ,trg_jet_puw[k] )]\n",
    "        ctau_calc = np.array([x[0]+x[1] for x in trg_jet_ctau[k]  ])\n",
    "        weight_ctau = weight_calc( ctau_calc, float(ct)/10, OLD_CTAU/10) # convert everything to cm\n",
    "        EventReW[k][ct] =  trg_jet_w[k]*weight_ctau*trg_jet_puw[k] \n"
   ]
  },
  {
   "cell_type": "code",
   "execution_count": 23,
   "metadata": {},
   "outputs": [
    {
     "name": "stdout",
     "output_type": "stream",
     "text": [
      "\n",
      "\n",
      "======================= Summary ==============================\n",
      "+--------+-----------+----------+--------+\n",
      "| Sample | Ctau [mm] |   Yield  | Error  |\n",
      "+--------+-----------+----------+--------+\n",
      "|  200   |    100    | 62961.37 | 250.92 |\n",
      "+--------+-----------+----------+--------+\n"
     ]
    }
   ],
   "source": [
    "from prettytable import PrettyTable\n",
    "print('\\n\\n======================= Summary ==============================')\n",
    "table =  PrettyTable(['Sample', 'Ctau [mm]', ' Yield', 'Error'])\n",
    "for k,v in tree.items():\n",
    "    lumi=137000\n",
    "    for ct in ctaus:\n",
    "        row = [k, ct, round(np.sum(EventReW[k][ct])*lumi, 2), round(math.sqrt(np.sum(EventReW[k][ct])*lumi), 2) ]\n",
    "        table.add_row(row)\n",
    "        \n",
    "print(table)"
   ]
  },
  {
   "cell_type": "code",
   "execution_count": 28,
   "metadata": {},
   "outputs": [
    {
     "name": "stdout",
     "output_type": "stream",
     "text": [
      "200 <TTree b'SusyLLPSigEffTree' at 0x7f24e4bce0b8>\n",
      "200 1\n",
      " FCN=140.33 FROM MIGRAD    STATUS=CONVERGED      48 CALLS          49 TOTAL\n",
      "                     EDM=1.82847e-08    STRATEGY= 1      ERROR MATRIX ACCURATE \n",
      "  EXT PARAMETER                                   STEP         FIRST   \n",
      "  NO.   NAME      VALUE            ERROR          SIZE      DERIVATIVE \n",
      "   1  Constant     9.61196e+00   7.07043e-03   2.77428e-05   3.97459e-02\n",
      "   2  Slope       -1.03217e-02   5.34589e-05   2.09757e-07   3.46059e+00\n"
     ]
    },
    {
     "name": "stderr",
     "output_type": "stream",
     "text": [
      "Warning in <TCanvas::Constructor>: Deleting canvas with same name: c\n",
      "Info in <TCanvas::Print>: png file /storage/user/jmao/gpu/jmao/cms-llp/plots/20200922/CTAU_original.png has been created\n"
     ]
    },
    {
     "data": {
      "image/png": "[encoded data removed]",
      "text/plain": [
       "<IPython.core.display.Image object>"
      ]
     },
     "metadata": {},
     "output_type": "display_data"
    }
   ],
   "source": [
    "# Plotting  \n",
    "c = rt.TCanvas('c','c', 800, 800)\n",
    "ht = {}\n",
    "leg = rt.TLegend(0.60,0.78,0.97,0.94)\n",
    "\n",
    "leg.SetTextSize(0.025)\n",
    "leg.SetBorderSize(0)\n",
    "leg.SetEntrySeparation(0.01)\n",
    "\n",
    "\n",
    "color_list = [845,806,861,876,597,625]\n",
    "\n",
    "i=0\n",
    "for k,v in tree.items():\n",
    "    print(k,v)\n",
    "    \n",
    "    var = trg_jet_ctau[k]\n",
    "    ws = trg_jet_w[k]*trg_jet_puw[k]\n",
    "    axis_set = ['CTAU[cm]', 'Events']\n",
    "    bin_set = [40,0,1000]\n",
    "    lumi=137000\n",
    "    \n",
    "    ht[k] = create_TH1D( var[:,0], axis_title=axis_set, name=k, binning=bin_set,weights = ws*lumi)\n",
    "    ht[k].SetLineColor(std_color_list[i])\n",
    "    ht[k].GetXaxis().SetLabelSize(0.03)\n",
    "    ht[k].GetYaxis().SetRangeUser(1,1e+5)\n",
    "    ht[k].Fit('expo')\n",
    "    print(k, std_color_list[i])\n",
    "    ht[k].Draw(\"hist E same\")\n",
    "    leg.AddEntry(ht[k],'1 m, m_{Chi} = '+k+' GeV')  \n",
    "    \n",
    "    i+=1\n",
    "    \n",
    "# CMS_lumi.lumi_13TeV = str(lumi/1000)+\" fb^{-1}\"\n",
    "# CMS_lumi.cmsText = \"\"\n",
    "# CMS_lumi.writeExtraText = False\n",
    "# CMS_lumi.CMS_lumi(c,4,3)\n",
    "\n",
    "# leg.Draw()\n",
    "c.SetLeftMargin(0.2)\n",
    "c.SetRightMargin(0.027)\n",
    "c.SetLogy()\n",
    "c.Draw()\n",
    "outf='CTAU_original.png'\n",
    "c.SaveAs(plotDir+outf)    \n",
    "    "
   ]
  },
  {
   "cell_type": "code",
   "execution_count": 31,
   "metadata": {},
   "outputs": [
    {
     "name": "stdout",
     "output_type": "stream",
     "text": [
      "200 <TTree b'SusyLLPSigEffTree' at 0x7f24e4bce0b8>\n",
      "200 1\n",
      " FCN=112.926 FROM MIGRAD    STATUS=CONVERGED      63 CALLS          64 TOTAL\n",
      "                     EDM=1.7408e-09    STRATEGY= 1      ERROR MATRIX ACCURATE \n",
      "  EXT PARAMETER                                   STEP         FIRST   \n",
      "  NO.   NAME      VALUE            ERROR          SIZE      DERIVATIVE \n",
      "   1  Constant     1.22775e+01   1.58204e-02   6.52172e-05  -3.35955e-03\n",
      "   2  Slope       -1.01441e-01   1.04887e-04   4.32403e-07   8.47058e-02\n"
     ]
    },
    {
     "name": "stderr",
     "output_type": "stream",
     "text": [
      "Warning in <TCanvas::Constructor>: Deleting canvas with same name: c\n",
      "Info in <TCanvas::Print>: png file /storage/user/jmao/gpu/jmao/cms-llp/plots/20200922/CTAU_reweight.png has been created\n"
     ]
    },
    {
     "data": {
      "image/png": "[encoded data removed]",
      "text/plain": [
       "<IPython.core.display.Image object>"
      ]
     },
     "metadata": {},
     "output_type": "display_data"
    }
   ],
   "source": [
    "# Plotting  \n",
    "c = rt.TCanvas('c','c', 800, 800)\n",
    "ht = {}\n",
    "leg = rt.TLegend(0.60,0.78,0.97,0.94)\n",
    "\n",
    "leg.SetTextSize(0.025)\n",
    "leg.SetBorderSize(0)\n",
    "leg.SetEntrySeparation(0.01)\n",
    "\n",
    "\n",
    "color_list = [845,806,861,876,597,625]\n",
    "\n",
    "i=0\n",
    "for k,v in tree.items():\n",
    "    print(k,v)\n",
    "    \n",
    "\n",
    "    var = trg_jet_ctau[k]\n",
    "    for ct in ctaus:\n",
    "        ws = EventReW[k][ct]\n",
    "        axis_set = ['CTAU[cm]', 'Events']\n",
    "        bin_set = [40,0,1000]\n",
    "        lumi=137000\n",
    "\n",
    "        ht[k] = create_TH1D( var[:,0], axis_title=axis_set, name=k, binning=bin_set,weights = ws*lumi)\n",
    "        ht[k].SetLineColor(std_color_list[i])\n",
    "        ht[k].GetXaxis().SetLabelSize(0.03)\n",
    "        ht[k].GetYaxis().SetRangeUser(1,1e+7)\n",
    "        ht[k].Fit('expo')\n",
    "        print(k, std_color_list[i])\n",
    "        ht[k].Draw(\"hist E same\")\n",
    "        leg.AddEntry(ht[k],'1 m, m_{Chi} = '+k+' GeV')  \n",
    "\n",
    "        i+=1\n",
    "\n",
    "    # CMS_lumi.lumi_13TeV = str(lumi/1000)+\" fb^{-1}\"\n",
    "    # CMS_lumi.cmsText = \"\"\n",
    "    # CMS_lumi.writeExtraText = False\n",
    "    # CMS_lumi.CMS_lumi(c,4,3)\n",
    "\n",
    "    # leg.Draw()\n",
    "    c.SetLeftMargin(0.2)\n",
    "    c.SetRightMargin(0.027)\n",
    "    c.SetLogy()\n",
    "    c.Draw()\n",
    "    outf='CTAU_reweight.png'\n",
    "    c.SaveAs(plotDir+outf)    \n"
   ]
  },
  {
   "cell_type": "code",
   "execution_count": 34,
   "metadata": {},
   "outputs": [
    {
     "name": "stdout",
     "output_type": "stream",
     "text": [
      "200 <TTree b'SusyLLPSigEffTree' at 0x7f24e4bce0b8>\n",
      "200 1\n",
      "200 2\n"
     ]
    },
    {
     "name": "stderr",
     "output_type": "stream",
     "text": [
      "Warning in <TCanvas::Constructor>: Deleting canvas with same name: c\n",
      "Warning in <TROOT::Append>: Replacing existing TH1: 200 (Potential memory leak).\n",
      "Info in <TCanvas::Print>: png file /storage/user/jmao/gpu/jmao/cms-llp/plots/20200922/CTAU_com.png has been created\n"
     ]
    },
    {
     "data": {
      "image/png": "[encoded data removed]",
      "text/plain": [
       "<IPython.core.display.Image object>"
      ]
     },
     "metadata": {},
     "output_type": "display_data"
    }
   ],
   "source": [
    "# Plotting  \n",
    "c = rt.TCanvas('c','c', 800, 800)\n",
    "ht = {}\n",
    "hk = {}\n",
    "leg = rt.TLegend(0.60,0.78,0.97,0.94)\n",
    "\n",
    "leg.SetTextSize(0.025)\n",
    "leg.SetBorderSize(0)\n",
    "leg.SetEntrySeparation(0.01)\n",
    "\n",
    "\n",
    "color_list = [845,806,861,876,597,625]\n",
    "\n",
    "i=0\n",
    "for k,v in tree.items():\n",
    "    print(k,v)\n",
    "    \n",
    "    #original\n",
    "    var = trg_jet_ctau[k]\n",
    "    ws = trg_jet_w[k]*trg_jet_puw[k]\n",
    "    axis_set = ['CTAU[cm]', 'Events']\n",
    "    bin_set = [40,0,1000]\n",
    "    lumi=137000\n",
    "    \n",
    "    hk[k] = create_TH1D( var[:,0], axis_title=axis_set, name=k, binning=bin_set,weights = ws*lumi)\n",
    "    hk[k].SetLineColor(std_color_list[i])\n",
    "    hk[k].GetXaxis().SetLabelSize(0.03)\n",
    "    hk[k].GetYaxis().SetRangeUser(1,1e+5)\n",
    "#     hk[k].Fit('expo')\n",
    "    print(k, std_color_list[i])\n",
    "    hk[k].Draw(\"hist E same\") \n",
    "    \n",
    "    i+=1\n",
    "    #reweight    \n",
    "    var = trg_jet_ctau[k]\n",
    "    for ct in ctaus:\n",
    "        ws = EventReW[k][ct]\n",
    "        axis_set = ['CTAU[cm]', 'Events']\n",
    "        bin_set = [40,0,1000]\n",
    "        lumi=137000\n",
    "\n",
    "        ht[k] = create_TH1D( var[:,0], axis_title=axis_set, name=k, binning=bin_set,weights = ws*lumi)\n",
    "        ht[k].SetLineColor(std_color_list[i])\n",
    "        ht[k].GetXaxis().SetLabelSize(0.03)\n",
    "        ht[k].GetYaxis().SetRangeUser(1,1e+7)\n",
    "#         ht[k].Fit('expo')\n",
    "        print(k, std_color_list[i])\n",
    "        ht[k].Draw(\"hist E same\")\n",
    "        leg.AddEntry(ht[k],'1 m, m_{Chi} = '+k+' GeV')  \n",
    "\n",
    "        i+=1\n",
    "\n",
    " \n",
    "    # leg.Draw()\n",
    "    c.SetLeftMargin(0.2)\n",
    "    c.SetRightMargin(0.027)\n",
    "    c.SetLogy()\n",
    "    c.Draw()\n",
    "    outf='CTAU_com.png'\n",
    "    c.SaveAs(plotDir+outf)    \n"
   ]
  },
  {
   "cell_type": "code",
   "execution_count": null,
   "metadata": {},
   "outputs": [],
   "source": []
  }
 ],
 "metadata": {
  "kernelspec": {
   "display_name": "Python 3",
   "language": "python",
   "name": "python3"
  },
  "language_info": {
   "codemirror_mode": {
    "name": "ipython",
    "version": 3
   },
   "file_extension": ".py",
   "mimetype": "text/x-python",
   "name": "python",
   "nbconvert_exporter": "python",
   "pygments_lexer": "ipython3",
   "version": "3.6.8"
  }
 },
 "nbformat": 4,
 "nbformat_minor": 4
}
